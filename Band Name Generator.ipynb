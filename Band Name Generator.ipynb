{
 "cells": [
  {
   "cell_type": "code",
   "execution_count": 6,
   "id": "0d325956",
   "metadata": {},
   "outputs": [
    {
     "name": "stdout",
     "output_type": "stream",
     "text": [
      "Welcome to my Band Name Generator\n",
      "Whats the name of the city you gre up in??\n",
      "Bangalore\n",
      "Whats the name of your pet?\n",
      "Casper\n",
      "Your bands name is Bangalore Casper \n"
     ]
    }
   ],
   "source": [
    "#1. Create a greeting for your program\n",
    "print(\"Welcome to my Band Name Generator\")\n",
    "city = input('Whats the name of the city you gre up in??\\n')\n",
    "pet = input(\"Whats the name of your pet?\\n\")\n",
    "print(f\"Your bands name is {city} {pet} \")"
   ]
  }
 ],
 "metadata": {
  "kernelspec": {
   "display_name": "Python 3 (ipykernel)",
   "language": "python",
   "name": "python3"
  },
  "language_info": {
   "codemirror_mode": {
    "name": "ipython",
    "version": 3
   },
   "file_extension": ".py",
   "mimetype": "text/x-python",
   "name": "python",
   "nbconvert_exporter": "python",
   "pygments_lexer": "ipython3",
   "version": "3.11.5"
  }
 },
 "nbformat": 4,
 "nbformat_minor": 5
}
