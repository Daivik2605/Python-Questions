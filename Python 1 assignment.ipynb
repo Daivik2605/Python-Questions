{
 "cells": [
  {
   "cell_type": "markdown",
   "id": "d683d2e7",
   "metadata": {},
   "source": [
    "## Python Questions"
   ]
  },
  {
   "cell_type": "markdown",
   "id": "cd25bd4e",
   "metadata": {},
   "source": [
    "1) <b>A company decided to give bonus of 5% to employee if his/her year of service is more than 5 years. Ask user for their salary and year of service and print the net bonus amount. </b>"
   ]
  },
  {
   "cell_type": "code",
   "execution_count": 2,
   "id": "065922a7",
   "metadata": {},
   "outputs": [
    {
     "name": "stdout",
     "output_type": "stream",
     "text": [
      "Salary is: 400000\n",
      "The number of years of service with us: 8\n",
      "You are rewarded a Bonus of  20000.0 $\n"
     ]
    }
   ],
   "source": [
    "salary = int(input(\"Salary is: \"))\n",
    "year_of_service = int(input(\"The number of years of service with us: \"))\n",
    "bonus = 0\n",
    "if year_of_service > 5:\n",
    "    bonus = (salary * 5)/100\n",
    "    print(\"You are rewarded a Bonus of \", bonus, \"$\")\n",
    "else:\n",
    "    print(\"Sorry, No Bonus this year\")"
   ]
  },
  {
   "cell_type": "markdown",
   "id": "7b41ae18",
   "metadata": {},
   "source": [
    "2)<B> Take values of length and breadth of a rectangle from user and check if it is square or not.</b>"
   ]
  },
  {
   "cell_type": "code",
   "execution_count": 3,
   "id": "6ebfba7b",
   "metadata": {},
   "outputs": [
    {
     "name": "stdout",
     "output_type": "stream",
     "text": [
      "Length = 5\n",
      "Breadth = 8\n",
      "You have a RECTANGLE\n"
     ]
    }
   ],
   "source": [
    "l = int(input(\"Length = \"))\n",
    "b = int(input(\"Breadth = \"))\n",
    "if l==b:\n",
    "    print(\"You have a SQUARE\")\n",
    "else:\n",
    "    print(\"You have a RECTANGLE\")"
   ]
  },
  {
   "cell_type": "markdown",
   "id": "dfb7ccba",
   "metadata": {},
   "source": [
    "3)<B>Take two int values from user and print greatest among them. \n"
   ]
  },
  {
   "cell_type": "code",
   "execution_count": 4,
   "id": "06696845",
   "metadata": {},
   "outputs": [
    {
     "name": "stdout",
     "output_type": "stream",
     "text": [
      "a = 6\n",
      "b = 0\n",
      "The Greatest is a\n"
     ]
    }
   ],
   "source": [
    "a = int(input(\"a = \"))\n",
    "b = int(input(\"b = \"))\n",
    "if a>b:\n",
    "    print(\"The Greatest is a\")\n",
    "elif b>a:\n",
    "    print(\"The Greatest is b\")\n",
    "else:\n",
    "    print(\"Both are equal\")"
   ]
  },
  {
   "cell_type": "markdown",
   "id": "1f71e77f",
   "metadata": {},
   "source": [
    "<b>4)  shop will give discount of 10% if the cost of purchased quantity is more than 1000. Ask user for quantity Suppose, one unit will cost 100. Judge and print total cost for user"
   ]
  },
  {
   "cell_type": "code",
   "execution_count": 6,
   "id": "5210e1f4",
   "metadata": {},
   "outputs": [
    {
     "name": "stdout",
     "output_type": "stream",
     "text": [
      "Cost of each product is 100, how many products do you want(quantity)? 15\n",
      "You have been rewarded a 10% discount, Please pay:  1350.0\n"
     ]
    }
   ],
   "source": [
    "quantity = int(input(\"Cost of each product is 100, how many products do you want(quantity)? \"))\n",
    "cost = 100\n",
    "total = cost*quantity\n",
    "discount = total/10\n",
    "if total > 1000:\n",
    "    print(\"You have been rewarded a 10% discount, Please pay: \", total-discount)\n",
    "else:\n",
    "    print(\"Please pay: \", total)"
   ]
  },
  {
   "cell_type": "markdown",
   "id": "441cf75a",
   "metadata": {},
   "source": [
    "<b>A school has following rules for grading system: <br>\n",
    "a. Below 25 - F <br>\n",
    "b. 25 to 45 - E <br>\n",
    "c. 45 to 50 - D <br>\n",
    "d. 50 to 60 - C <br>\n",
    "e. 60 to 80 - B <br>\n",
    "f. Above 80 - A <br>\n",
    "Ask user to enter marks and print the corresponding grade.\n"
   ]
  },
  {
   "cell_type": "code",
   "execution_count": 7,
   "id": "a3f30e27",
   "metadata": {},
   "outputs": [
    {
     "name": "stdout",
     "output_type": "stream",
     "text": [
      "Enter your marks(1-100): 99\n",
      "You have received A Grade, Congratulations!!\n"
     ]
    }
   ],
   "source": [
    "marks = int(input(\"Enter your marks(1-100): \"))\n",
    "if (marks < 25):\n",
    "    print(\"You have received F Grade\")\n",
    "elif( marks >=25 and marks < 45):\n",
    "    print(\"You have received E Grade\")\n",
    "elif( marks >=45 and marks < 50):\n",
    "    print(\"You have received D Grade\")\n",
    "elif( marks >=50 and marks < 60):\n",
    "    print(\"You have received C Grade\")\n",
    "elif( marks >=60 and marks < 80):\n",
    "    print(\"You have received B Grade\")\n",
    "else:\n",
    "    print(\"You have received A Grade, Congratulations!!\")"
   ]
  },
  {
   "cell_type": "markdown",
   "id": "e16ef1f6",
   "metadata": {},
   "source": [
    "<B> Take input of age of 3 people by user and determine oldest and youngest among them. \n"
   ]
  },
  {
   "cell_type": "code",
   "execution_count": 8,
   "id": "26342cd3",
   "metadata": {},
   "outputs": [
    {
     "name": "stdout",
     "output_type": "stream",
     "text": [
      "Enter the first age: 21\n",
      "Enter the second age: 22\n",
      "Enter the third age: 20\n",
      "b is the largest\n",
      "c is the youngest\n"
     ]
    }
   ],
   "source": [
    "a = int(input(\"Enter the first age: \"))\n",
    "b = int(input(\"Enter the second age: \"))\n",
    "c = int(input(\"Enter the third age: \"))\n",
    "if( a > b and a>c):\n",
    "    print(\"a is the largest\")\n",
    "    if(b>c):\n",
    "        print(\"c is the youngest\")\n",
    "    else:\n",
    "        print(\"b is the youngest\")\n",
    "elif( b>c and b>a):\n",
    "    print(\"b is the largest\")\n",
    "    if(a>c):\n",
    "        print(\"c is the youngest\")\n",
    "    else:\n",
    "        print(\"a is the youngest\")\n",
    "else:\n",
    "    print(\"c is the largest\")\n",
    "    if (a>b):\n",
    "        print(\"b is the youngest\")\n",
    "    else:\n",
    "        print(\"a is the youngest\")"
   ]
  },
  {
   "cell_type": "markdown",
   "id": "40db2eb4",
   "metadata": {},
   "source": [
    "<b> A student will not be allowed to sit in exam if his/her attendance is less than 75%. <br>\n",
    "    Take following input from user <br>\n",
    "    1. Number of classes held <br>\n",
    "    2. Number of classes attended. <br>\n",
    "And print percentage of class attended Is student is allowed to sit in exam or not."
   ]
  },
  {
   "cell_type": "code",
   "execution_count": 9,
   "id": "d7e9be34",
   "metadata": {},
   "outputs": [
    {
     "name": "stdout",
     "output_type": "stream",
     "text": [
      "Number of classes held: 4\n",
      "Number of classes Attended: 3\n",
      "You are eligible to write the exams, congratulations. Your attendance is  75.0 %\n"
     ]
    }
   ],
   "source": [
    "no_Ofclasses = int(input(\"Number of classes held: \"))\n",
    "attended = int(input(\"Number of classes Attended: \"))\n",
    "percentage = (attended/no_Ofclasses)*100\n",
    "if(attended > no_Ofclasses):\n",
    "    print(\"Not Possible\")\n",
    "else:\n",
    "    if(percentage < 75):\n",
    "        print(\"Sorry your attendance is low, it is only \", percentage, \"%\")\n",
    "    else:\n",
    "        print(\"You are eligible to write the exams, congratulations. Your attendance is \", percentage, \"%\")"
   ]
  },
  {
   "cell_type": "markdown",
   "id": "4dbfe12a",
   "metadata": {},
   "source": [
    "<b>Modify the above question to allow student to sit if he/she has medical cause. Ask user if he/she has medical cause or not ( 'Y' or 'N' ) and print accordingly. "
   ]
  },
  {
   "cell_type": "code",
   "execution_count": 10,
   "id": "d8af49af",
   "metadata": {},
   "outputs": [
    {
     "name": "stdout",
     "output_type": "stream",
     "text": [
      "Number of classes held: 9\n",
      "Number of classes Attended: 2\n",
      "Do you have a medical certificate(Y OR N):Y\n",
      "You are eligible to write the exams, congratulations. Your attendance is  22.22222222222222 %\n"
     ]
    }
   ],
   "source": [
    "no_Ofclasses = int(input(\"Number of classes held: \"))\n",
    "attended = int(input(\"Number of classes Attended: \"))\n",
    "medical = input(\"Do you have a medical certificate(Y OR N):\")\n",
    "percentage = (attended/no_Ofclasses)*100\n",
    "if(attended > no_Ofclasses):\n",
    "    print(\"Not Possible\")\n",
    "else:\n",
    "    if((percentage < 75) and (medical == 'Y')):\n",
    "        print(\"You are eligible to write the exams, congratulations. Your attendance is \", percentage, \"%\")\n",
    "    elif((percentage < 75) and (medical == 'N')):\n",
    "        print(\"Sorry your attendance is low, it is only \", percentage, \"%\")\n",
    "    else:\n",
    "        print(\"You are eligible to write the exams, congratulations. Your attendance is \", percentage, \"%\")"
   ]
  },
  {
   "cell_type": "code",
   "execution_count": null,
   "id": "68b67f16",
   "metadata": {},
   "outputs": [],
   "source": []
  }
 ],
 "metadata": {
  "kernelspec": {
   "display_name": "Python 3 (ipykernel)",
   "language": "python",
   "name": "python3"
  },
  "language_info": {
   "codemirror_mode": {
    "name": "ipython",
    "version": 3
   },
   "file_extension": ".py",
   "mimetype": "text/x-python",
   "name": "python",
   "nbconvert_exporter": "python",
   "pygments_lexer": "ipython3",
   "version": "3.11.5"
  }
 },
 "nbformat": 4,
 "nbformat_minor": 5
}
