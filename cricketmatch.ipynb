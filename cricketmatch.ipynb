{
 "cells": [
  {
   "cell_type": "code",
   "execution_count": 7,
   "id": "339b9a52",
   "metadata": {},
   "outputs": [],
   "source": [
    "from datetime import datetime"
   ]
  },
  {
   "cell_type": "code",
   "execution_count": 8,
   "id": "3cb3adff",
   "metadata": {},
   "outputs": [
    {
     "data": {
      "text/plain": [
       "datetime.datetime(2024, 8, 7, 22, 45, 32, 299336)"
      ]
     },
     "execution_count": 8,
     "metadata": {},
     "output_type": "execute_result"
    }
   ],
   "source": [
    "datetime.now()"
   ]
  },
  {
   "cell_type": "code",
   "execution_count": 11,
   "id": "25a62cb1",
   "metadata": {},
   "outputs": [
    {
     "name": "stdout",
     "output_type": "stream",
     "text": [
      "Enter a players name: Daivik\n",
      "Enter the runs scored - or stop to stop: 30\n",
      "Enter balls faced - or stop to stop: 5\n",
      "Enter the wickets taken  - or stop to stop: 2\n",
      "Enter the runs scored - or stop to stop: 40\n",
      "Enter balls faced - or stop to stop: 17\n",
      "Enter the wickets taken  - or stop to stop: 2\n",
      "Enter the runs scored - or stop to stop: 0\n",
      "Enter balls faced - or stop to stop: 2\n",
      "Enter the wickets taken  - or stop to stop: 5\n",
      "Enter the runs scored - or stop to stop: 90\n",
      "Enter balls faced - or stop to stop: 79\n",
      "Enter the wickets taken  - or stop to stop: 6\n",
      "Enter the runs scored - or stop to stop: stop\n",
      "\n",
      "Player's Performance:\n",
      "Player Name: Daivik\n",
      "Average Runs: 40.0\n",
      "Matches: <generator object Player.__str__.<locals>.<genexpr> at 0x000002A219F5E190>\n"
     ]
    }
   ],
   "source": [
    "class MatchPerformance:\n",
    "    def __init__(self, runs, balls, wickets):\n",
    "        self.runs = runs\n",
    "        self.balls = balls\n",
    "        self.wickets = wickets\n",
    "        self.strike_rate = self.calculate_strike()\n",
    "        \n",
    "    def calculate_strike(self):\n",
    "        if self.balls > 0:\n",
    "            return (self.runs/self.balls) * 10\n",
    "        return 0.0\n",
    "    \n",
    "    def __str__(self):\n",
    "        return f\"Runs: {self.runs}, Balls: {self.balls}, Wickets: {self.wickets}, Strike Rate: {self.strike_rate:.2f}\"\n",
    "    \n",
    "class Player:\n",
    "    def __init__(self, name):\n",
    "        self.name = name\n",
    "        self.matches = []\n",
    "        \n",
    "    def add_match(self, runs, balls, wickets):\n",
    "        match = MatchPerformance(runs, balls, wickets)\n",
    "        self.matches.append(match)\n",
    "        \n",
    "    def calculate_average_runs(self):\n",
    "        total_runs = sum(match.runs for match in self.matches)\n",
    "        total_matches = len(self.matches)\n",
    "        if total_matches > 0:\n",
    "            return total_runs/total_matches\n",
    "        return 0.0\n",
    "    def __str__(self):\n",
    "        match_details = \"\\n\".join([str(match for match in self.matches)])\n",
    "        avg_runs = self.calculate_average_runs()\n",
    "        return f\"Player Name: {self.name}\\nAverage Runs: {avg_runs}\\nMatches: {match_details}\"\n",
    "    \n",
    "def main():\n",
    "    player_name = input(\"Enter a players name: \")\n",
    "    player = Player(player_name)\n",
    "    \n",
    "    while True:\n",
    "        try:\n",
    "            runs = input(\"Enter the runs scored - or stop to stop: \")\n",
    "            if runs.lower() == 'stop':\n",
    "                break\n",
    "            runs = int(runs)\n",
    "            balls = input(\"Enter balls faced - or stop to stop: \")\n",
    "            if balls.lower()=='stop':\n",
    "                break\n",
    "            balls = int(balls)\n",
    "            wickets = input(\"Enter the wickets taken  - or stop to stop: \")\n",
    "            if wickets.lower() == 'stop':\n",
    "                break\n",
    "            wickets = int(wickets)\n",
    "        except ValueError:\n",
    "            print(\"Invalid Input, all values must be numeric\")\n",
    "            continue\n",
    "            \n",
    "        player.add_match(runs, balls, wickets)\n",
    "            \n",
    "        with open(\"cricket_stats.txt\", \"a\") as file:\n",
    "            timestamp = datetime.now().strftime(\"%Y-%m-%d %H:%M:%S\")\n",
    "            file.write(f\"{timestamp} - {player.name} - Runs: {runs}, Balls: {balls}, Wickets: {wickets}, Strike Rate: {player.matches[-1].strike_rate:.2f}\\n\")\n",
    "    \n",
    "    with open(\"cricket_stats.txt\", \"a\") as file:\n",
    "        file.write(f\"\\nFinal Statistics for {player.name}:\\n\")\n",
    "        file.write(str(player) + \"\\n\")\n",
    "    \n",
    "    print(\"\\nPlayer's Performance:\")\n",
    "    print(player)\n",
    "\n",
    "if __name__ == \"__main__\":\n",
    "    main()"
   ]
  },
  {
   "cell_type": "code",
   "execution_count": null,
   "id": "d2cbf7e1",
   "metadata": {},
   "outputs": [],
   "source": []
  }
 ],
 "metadata": {
  "kernelspec": {
   "display_name": "Python 3 (ipykernel)",
   "language": "python",
   "name": "python3"
  },
  "language_info": {
   "codemirror_mode": {
    "name": "ipython",
    "version": 3
   },
   "file_extension": ".py",
   "mimetype": "text/x-python",
   "name": "python",
   "nbconvert_exporter": "python",
   "pygments_lexer": "ipython3",
   "version": "3.11.5"
  }
 },
 "nbformat": 4,
 "nbformat_minor": 5
}
