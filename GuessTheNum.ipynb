{
 "cells": [
  {
   "cell_type": "markdown",
   "metadata": {},
   "source": [
    "### Objective: Create a simple number-guessing game that does the following:\n",
    "\n",
    "\n",
    "\n",
    "The program generates a random number between 1 and 20 (inclusive).\n",
    "\n",
    "The player has to guess the number with hints provided after each guess.\n",
    "\n",
    "The game gives feedback on whether the guess is too high, too low, or correct.\n",
    "\n",
    "The game ends when the player guesses the correct number.\n",
    "\n",
    "### Requirements:\n",
    "\n",
    "Use the random module to generate a random number.\n",
    "\n",
    "Use a while loop to allow the player to keep guessing.\n",
    "\n",
    "Use if-elif-else statements to check the player's guess and give feedback.\n",
    "\n",
    "Use the input function to get the player's guess.\n",
    "\n",
    "The game should tell the player how many guesses they took when they guess correctly.\n",
    "\n"
   ]
  },
  {
   "cell_type": "code",
   "execution_count": 1,
   "metadata": {},
   "outputs": [],
   "source": [
    "import random"
   ]
  },
  {
   "cell_type": "code",
   "execution_count": 4,
   "metadata": {},
   "outputs": [
    {
     "name": "stdout",
     "output_type": "stream",
     "text": [
      "Your Guess is to low, Guess Higher\n",
      "Correct Guess, 5 is the number\n"
     ]
    }
   ],
   "source": [
    "def guess_game():\n",
    "    num = random.randint(1,20)\n",
    "    count = 0\n",
    "\n",
    "    while True:\n",
    "        count = count+1\n",
    "        guess = int(input(\"Guess a number between 1 to 20: \"))\n",
    "        if guess < num:\n",
    "            print(\"Your Guess is to low, Guess Higher\")\n",
    "        elif guess > num:\n",
    "            print(\"Your Guess is too High, Guess lower\")\n",
    "        else:\n",
    "            print(f\"Correct Guess, {guess} is the number\")\n",
    "            return\n",
    "guess_game()"
   ]
  },
  {
   "cell_type": "code",
   "execution_count": null,
   "metadata": {},
   "outputs": [],
   "source": []
  }
 ],
 "metadata": {
  "kernelspec": {
   "display_name": "base",
   "language": "python",
   "name": "python3"
  },
  "language_info": {
   "codemirror_mode": {
    "name": "ipython",
    "version": 3
   },
   "file_extension": ".py",
   "mimetype": "text/x-python",
   "name": "python",
   "nbconvert_exporter": "python",
   "pygments_lexer": "ipython3",
   "version": "3.11.5"
  }
 },
 "nbformat": 4,
 "nbformat_minor": 2
}
