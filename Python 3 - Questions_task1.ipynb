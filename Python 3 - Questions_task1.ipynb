{
 "cells": [
  {
   "cell_type": "markdown",
   "metadata": {},
   "source": [
    "# Task#1:\n",
    "\n",
    "## Pandas\n",
    "\n",
    "The following exercises will help you practice key functions using the pandas library.\n",
    "\n",
    "### Question 1: import the pandas library"
   ]
  },
  {
   "cell_type": "code",
   "execution_count": 1,
   "metadata": {},
   "outputs": [],
   "source": [
    "##Your code here\n",
    "import pandas as pd"
   ]
  },
  {
   "cell_type": "code",
   "execution_count": null,
   "metadata": {},
   "outputs": [],
   "source": []
  },
  {
   "cell_type": "markdown",
   "metadata": {},
   "source": [
    "### Question 2: \n",
    "\n",
    "Import the `exercises.csv` file in a pandas DataFrame"
   ]
  },
  {
   "cell_type": "code",
   "execution_count": null,
   "metadata": {},
   "outputs": [],
   "source": [
    "##Your code here"
   ]
  },
  {
   "cell_type": "code",
   "execution_count": 11,
   "metadata": {},
   "outputs": [],
   "source": [
    "df = pd.read_csv('C:\\\\Users\\\\daivi\\\\Desktop\\\\AML 1114 - Data science and machine learning\\\\Code and Datasets\\\\WEEK 3\\\\exercises.csv')"
   ]
  },
  {
   "cell_type": "code",
   "execution_count": 12,
   "metadata": {},
   "outputs": [
    {
     "data": {
      "text/html": [
       "<div>\n",
       "<style scoped>\n",
       "    .dataframe tbody tr th:only-of-type {\n",
       "        vertical-align: middle;\n",
       "    }\n",
       "\n",
       "    .dataframe tbody tr th {\n",
       "        vertical-align: top;\n",
       "    }\n",
       "\n",
       "    .dataframe thead th {\n",
       "        text-align: right;\n",
       "    }\n",
       "</style>\n",
       "<table border=\"1\" class=\"dataframe\">\n",
       "  <thead>\n",
       "    <tr style=\"text-align: right;\">\n",
       "      <th></th>\n",
       "      <th>Gender</th>\n",
       "      <th>City</th>\n",
       "      <th>Income</th>\n",
       "      <th>Occupation</th>\n",
       "      <th>Marital_Status</th>\n",
       "      <th>Fixed_Monthly_Expenses</th>\n",
       "    </tr>\n",
       "  </thead>\n",
       "  <tbody>\n",
       "    <tr>\n",
       "      <th>0</th>\n",
       "      <td>Male</td>\n",
       "      <td>London</td>\n",
       "      <td>40400</td>\n",
       "      <td>Teacher</td>\n",
       "      <td>Single</td>\n",
       "      <td>2080</td>\n",
       "    </tr>\n",
       "    <tr>\n",
       "      <th>1</th>\n",
       "      <td>Female</td>\n",
       "      <td>Vancouver</td>\n",
       "      <td>62845</td>\n",
       "      <td>University Lecturer</td>\n",
       "      <td>Married</td>\n",
       "      <td>2927</td>\n",
       "    </tr>\n",
       "    <tr>\n",
       "      <th>2</th>\n",
       "      <td>Female</td>\n",
       "      <td>Montreal</td>\n",
       "      <td>66439</td>\n",
       "      <td>Analyst</td>\n",
       "      <td>Single</td>\n",
       "      <td>2811</td>\n",
       "    </tr>\n",
       "    <tr>\n",
       "      <th>3</th>\n",
       "      <td>Female</td>\n",
       "      <td>Winnipeg</td>\n",
       "      <td>101547</td>\n",
       "      <td>Marketing Manager</td>\n",
       "      <td>Common Law</td>\n",
       "      <td>3500</td>\n",
       "    </tr>\n",
       "    <tr>\n",
       "      <th>4</th>\n",
       "      <td>Male</td>\n",
       "      <td>Calgary</td>\n",
       "      <td>46424</td>\n",
       "      <td>Analyst</td>\n",
       "      <td>Single</td>\n",
       "      <td>1300</td>\n",
       "    </tr>\n",
       "  </tbody>\n",
       "</table>\n",
       "</div>"
      ],
      "text/plain": [
       "   Gender       City  Income           Occupation Marital_Status  \\\n",
       "0    Male     London   40400              Teacher         Single   \n",
       "1  Female  Vancouver   62845  University Lecturer        Married   \n",
       "2  Female   Montreal   66439              Analyst         Single   \n",
       "3  Female   Winnipeg  101547    Marketing Manager     Common Law   \n",
       "4    Male    Calgary   46424              Analyst         Single   \n",
       "\n",
       "   Fixed_Monthly_Expenses  \n",
       "0                    2080  \n",
       "1                    2927  \n",
       "2                    2811  \n",
       "3                    3500  \n",
       "4                    1300  "
      ]
     },
     "execution_count": 12,
     "metadata": {},
     "output_type": "execute_result"
    }
   ],
   "source": [
    "df.head()"
   ]
  },
  {
   "cell_type": "markdown",
   "metadata": {},
   "source": [
    "### Question 3:\n",
    "\n",
    "Answer the following questions using the info(), describe(), groupby(), count(), mean(), corr(), sort_values() and agg() functions:\n",
    "\n",
    "* 1. How many observations are there? \n",
    "* 2. What data types does the data set have?  \n",
    "* 3. What is the average income in this data set? \n",
    "* 4. What is the average monthly expenses in this dataset? \n",
    "* 5. What is the average income by city in this dataset?\n",
    "* 6. Which city has the most observations? \n",
    "* 7. Which occupation has the most observations?\n",
    "* 8. What is the average income by occupation?\n",
    "* 9. What is the average monthly expenses by occupation?\n",
    "* 10. What is the average income and monthly expenses by Marital Status?\n",
    "* 11. Which people are most likely to have a high income, based on gender, occupation, city, or marital status?\n",
    "* 12. What conclusions can you make about Toronto women's income and expenses?\n",
    "* 13. Which city has the highest income?\n",
    "* 14. Calculate the correlation between income and expenses."
   ]
  },
  {
   "cell_type": "code",
   "execution_count": 90,
   "metadata": {},
   "outputs": [
    {
     "data": {
      "text/plain": [
       "(27, 6)"
      ]
     },
     "execution_count": 90,
     "metadata": {},
     "output_type": "execute_result"
    }
   ],
   "source": [
    "# 1. How many observations are there?\n",
    "df.shape"
   ]
  },
  {
   "cell_type": "markdown",
   "metadata": {},
   "source": [
    "### There are 27 records (rows) and 6 features (columns)"
   ]
  },
  {
   "cell_type": "code",
   "execution_count": 92,
   "metadata": {},
   "outputs": [
    {
     "name": "stdout",
     "output_type": "stream",
     "text": [
      "<class 'pandas.core.frame.DataFrame'>\n",
      "RangeIndex: 27 entries, 0 to 26\n",
      "Data columns (total 6 columns):\n",
      " #   Column                  Non-Null Count  Dtype \n",
      "---  ------                  --------------  ----- \n",
      " 0   Gender                  27 non-null     object\n",
      " 1   City                    27 non-null     object\n",
      " 2   Income                  27 non-null     int64 \n",
      " 3   Occupation              27 non-null     object\n",
      " 4   Marital_Status          27 non-null     object\n",
      " 5   Fixed_Monthly_Expenses  27 non-null     int64 \n",
      "dtypes: int64(2), object(4)\n",
      "memory usage: 1.4+ KB\n"
     ]
    }
   ],
   "source": [
    "#2. What data types does the data set have? \n",
    "df.info()"
   ]
  },
  {
   "cell_type": "markdown",
   "metadata": {},
   "source": [
    "### There are 2 types of datatypes in the dataset: Object, Integer"
   ]
  },
  {
   "cell_type": "code",
   "execution_count": 14,
   "metadata": {},
   "outputs": [
    {
     "data": {
      "text/html": [
       "<div>\n",
       "<style scoped>\n",
       "    .dataframe tbody tr th:only-of-type {\n",
       "        vertical-align: middle;\n",
       "    }\n",
       "\n",
       "    .dataframe tbody tr th {\n",
       "        vertical-align: top;\n",
       "    }\n",
       "\n",
       "    .dataframe thead th {\n",
       "        text-align: right;\n",
       "    }\n",
       "</style>\n",
       "<table border=\"1\" class=\"dataframe\">\n",
       "  <thead>\n",
       "    <tr style=\"text-align: right;\">\n",
       "      <th></th>\n",
       "      <th>Income</th>\n",
       "      <th>Fixed_Monthly_Expenses</th>\n",
       "    </tr>\n",
       "  </thead>\n",
       "  <tbody>\n",
       "    <tr>\n",
       "      <th>count</th>\n",
       "      <td>27.000000</td>\n",
       "      <td>27.000000</td>\n",
       "    </tr>\n",
       "    <tr>\n",
       "      <th>mean</th>\n",
       "      <td>74176.777778</td>\n",
       "      <td>2508.000000</td>\n",
       "    </tr>\n",
       "    <tr>\n",
       "      <th>std</th>\n",
       "      <td>23069.479500</td>\n",
       "      <td>1063.438617</td>\n",
       "    </tr>\n",
       "    <tr>\n",
       "      <th>min</th>\n",
       "      <td>40400.000000</td>\n",
       "      <td>1078.000000</td>\n",
       "    </tr>\n",
       "    <tr>\n",
       "      <th>25%</th>\n",
       "      <td>59795.500000</td>\n",
       "      <td>1605.000000</td>\n",
       "    </tr>\n",
       "    <tr>\n",
       "      <th>50%</th>\n",
       "      <td>66439.000000</td>\n",
       "      <td>2378.000000</td>\n",
       "    </tr>\n",
       "    <tr>\n",
       "      <th>75%</th>\n",
       "      <td>86943.500000</td>\n",
       "      <td>2957.000000</td>\n",
       "    </tr>\n",
       "    <tr>\n",
       "      <th>max</th>\n",
       "      <td>123891.000000</td>\n",
       "      <td>4988.000000</td>\n",
       "    </tr>\n",
       "  </tbody>\n",
       "</table>\n",
       "</div>"
      ],
      "text/plain": [
       "              Income  Fixed_Monthly_Expenses\n",
       "count      27.000000               27.000000\n",
       "mean    74176.777778             2508.000000\n",
       "std     23069.479500             1063.438617\n",
       "min     40400.000000             1078.000000\n",
       "25%     59795.500000             1605.000000\n",
       "50%     66439.000000             2378.000000\n",
       "75%     86943.500000             2957.000000\n",
       "max    123891.000000             4988.000000"
      ]
     },
     "execution_count": 14,
     "metadata": {},
     "output_type": "execute_result"
    }
   ],
   "source": [
    "df.describe()"
   ]
  },
  {
   "cell_type": "code",
   "execution_count": 47,
   "metadata": {},
   "outputs": [
    {
     "data": {
      "text/plain": [
       "City\n",
       "Calgary      75908.166667\n",
       "London       61860.200000\n",
       "Montreal     58394.000000\n",
       "Toronto      89115.428571\n",
       "Vancouver    62845.000000\n",
       "Winnipeg     75237.600000\n",
       "Name: Income, dtype: float64"
      ]
     },
     "execution_count": 47,
     "metadata": {},
     "output_type": "execute_result"
    }
   ],
   "source": [
    "# 5. What is the average income by city in this dataset?\n",
    "df.groupby('City') ['Income'].mean()"
   ]
  },
  {
   "cell_type": "markdown",
   "metadata": {},
   "source": [
    " The average income by cities is as shown"
   ]
  },
  {
   "cell_type": "code",
   "execution_count": 53,
   "metadata": {},
   "outputs": [
    {
     "data": {
      "text/plain": [
       "City\n",
       "Toronto      7\n",
       "Calgary      6\n",
       "London       5\n",
       "Winnipeg     5\n",
       "Montreal     3\n",
       "Vancouver    1\n",
       "Name: count, dtype: int64"
      ]
     },
     "execution_count": 53,
     "metadata": {},
     "output_type": "execute_result"
    }
   ],
   "source": [
    "# 6.Which city has the most observations?\n",
    "df['City'].value_counts()"
   ]
  },
  {
   "cell_type": "code",
   "execution_count": 87,
   "metadata": {},
   "outputs": [
    {
     "data": {
      "text/plain": [
       "City\n",
       "Toronto    7\n",
       "Name: count, dtype: int64"
      ]
     },
     "execution_count": 87,
     "metadata": {},
     "output_type": "execute_result"
    }
   ],
   "source": [
    "df['City'] [df['City'] == df['City'].mode()[0]].value_counts()"
   ]
  },
  {
   "cell_type": "code",
   "execution_count": 54,
   "metadata": {},
   "outputs": [
    {
     "data": {
      "text/plain": [
       "Occupation\n",
       "Researcher                  5\n",
       "Analyst                     3\n",
       "Professor                   3\n",
       "Teacher                     2\n",
       "Engineer                    2\n",
       "Customer Service Manager    2\n",
       "University Lecturer         1\n",
       "Marketing Manager           1\n",
       "Real Estate Agent           1\n",
       "Account Executive           1\n",
       "Account Manager             1\n",
       "Marketing Analyst           1\n",
       "Operations Director         1\n",
       "Investment Banker           1\n",
       "Associate Professor         1\n",
       "Finance Executive           1\n",
       "Name: count, dtype: int64"
      ]
     },
     "execution_count": 54,
     "metadata": {},
     "output_type": "execute_result"
    }
   ],
   "source": [
    "# 7. Which occupation has the most observations?\n",
    "df['Occupation'].value_counts()"
   ]
  },
  {
   "cell_type": "code",
   "execution_count": 88,
   "metadata": {},
   "outputs": [
    {
     "data": {
      "text/plain": [
       "Occupation\n",
       "Researcher    5\n",
       "Name: count, dtype: int64"
      ]
     },
     "execution_count": 88,
     "metadata": {},
     "output_type": "execute_result"
    }
   ],
   "source": [
    "df['Occupation'] [df['Occupation'] == df['Occupation'].mode()[0]].value_counts()"
   ]
  },
  {
   "cell_type": "code",
   "execution_count": 58,
   "metadata": {},
   "outputs": [
    {
     "data": {
      "text/plain": [
       "Occupation\n",
       "Account Executive            86825.000000\n",
       "Account Manager              61500.000000\n",
       "Analyst                      57410.666667\n",
       "Associate Professor          78712.000000\n",
       "Customer Service Manager     48429.500000\n",
       "Engineer                     86339.500000\n",
       "Finance Executive           123771.000000\n",
       "Investment Banker           107673.000000\n",
       "Marketing Analyst            64145.000000\n",
       "Marketing Manager           101547.000000\n",
       "Operations Director         123891.000000\n",
       "Professor                    89204.000000\n",
       "Real Estate Agent            70443.000000\n",
       "Researcher                   60506.000000\n",
       "Teacher                      54754.500000\n",
       "University Lecturer          62845.000000\n",
       "Name: Income, dtype: float64"
      ]
     },
     "execution_count": 58,
     "metadata": {},
     "output_type": "execute_result"
    }
   ],
   "source": [
    "# 8. What is the average income by occupation\n",
    "df.groupby('Occupation') ['Income'].mean()"
   ]
  },
  {
   "cell_type": "markdown",
   "metadata": {},
   "source": [
    "The average income by occupation is as shown"
   ]
  },
  {
   "cell_type": "code",
   "execution_count": 59,
   "metadata": {},
   "outputs": [
    {
     "data": {
      "text/plain": [
       "Occupation\n",
       "Account Executive           2378.000000\n",
       "Account Manager             1200.000000\n",
       "Analyst                     1729.666667\n",
       "Associate Professor         2898.000000\n",
       "Customer Service Manager    1295.000000\n",
       "Engineer                    3218.000000\n",
       "Finance Executive           4988.000000\n",
       "Investment Banker           3876.000000\n",
       "Marketing Analyst           2400.000000\n",
       "Marketing Manager           3500.000000\n",
       "Operations Director         4398.000000\n",
       "Professor                   2599.666667\n",
       "Real Estate Agent           2181.000000\n",
       "Researcher                  1977.800000\n",
       "Teacher                     2533.500000\n",
       "University Lecturer         2927.000000\n",
       "Name: Fixed_Monthly_Expenses, dtype: float64"
      ]
     },
     "execution_count": 59,
     "metadata": {},
     "output_type": "execute_result"
    }
   ],
   "source": [
    "# 9. What is the average monthly expenses by occupation?\n",
    "df.groupby('Occupation') ['Fixed_Monthly_Expenses'].mean()"
   ]
  },
  {
   "cell_type": "code",
   "execution_count": 60,
   "metadata": {},
   "outputs": [
    {
     "data": {
      "text/html": [
       "<div>\n",
       "<style scoped>\n",
       "    .dataframe tbody tr th:only-of-type {\n",
       "        vertical-align: middle;\n",
       "    }\n",
       "\n",
       "    .dataframe tbody tr th {\n",
       "        vertical-align: top;\n",
       "    }\n",
       "\n",
       "    .dataframe thead th {\n",
       "        text-align: right;\n",
       "    }\n",
       "</style>\n",
       "<table border=\"1\" class=\"dataframe\">\n",
       "  <thead>\n",
       "    <tr style=\"text-align: right;\">\n",
       "      <th></th>\n",
       "      <th>Income</th>\n",
       "      <th>Fixed_Monthly_Expenses</th>\n",
       "    </tr>\n",
       "    <tr>\n",
       "      <th>Marital_Status</th>\n",
       "      <th></th>\n",
       "      <th></th>\n",
       "    </tr>\n",
       "  </thead>\n",
       "  <tbody>\n",
       "    <tr>\n",
       "      <th>Common Law</th>\n",
       "      <td>81198.888889</td>\n",
       "      <td>2816.555556</td>\n",
       "    </tr>\n",
       "    <tr>\n",
       "      <th>Married</th>\n",
       "      <td>82947.875000</td>\n",
       "      <td>3243.000000</td>\n",
       "    </tr>\n",
       "    <tr>\n",
       "      <th>Single</th>\n",
       "      <td>60840.000000</td>\n",
       "      <td>1642.300000</td>\n",
       "    </tr>\n",
       "  </tbody>\n",
       "</table>\n",
       "</div>"
      ],
      "text/plain": [
       "                      Income  Fixed_Monthly_Expenses\n",
       "Marital_Status                                      \n",
       "Common Law      81198.888889             2816.555556\n",
       "Married         82947.875000             3243.000000\n",
       "Single          60840.000000             1642.300000"
      ]
     },
     "execution_count": 60,
     "metadata": {},
     "output_type": "execute_result"
    }
   ],
   "source": [
    "# 10. What is the average income and monthly expenses by Marital Status?\n",
    "df.groupby('Marital_Status') [['Income', 'Fixed_Monthly_Expenses']].mean()"
   ]
  },
  {
   "cell_type": "markdown",
   "metadata": {},
   "source": [
    "The average income and monthly expenses by marital status is as shown, Average Income is higher for Married People than Single People, similarly the average expense is greater"
   ]
  },
  {
   "cell_type": "code",
   "execution_count": 61,
   "metadata": {},
   "outputs": [
    {
     "data": {
      "text/html": [
       "<div>\n",
       "<style scoped>\n",
       "    .dataframe tbody tr th:only-of-type {\n",
       "        vertical-align: middle;\n",
       "    }\n",
       "\n",
       "    .dataframe tbody tr th {\n",
       "        vertical-align: top;\n",
       "    }\n",
       "\n",
       "    .dataframe thead th {\n",
       "        text-align: right;\n",
       "    }\n",
       "</style>\n",
       "<table border=\"1\" class=\"dataframe\">\n",
       "  <thead>\n",
       "    <tr style=\"text-align: right;\">\n",
       "      <th></th>\n",
       "      <th>Gender</th>\n",
       "      <th>City</th>\n",
       "      <th>Income</th>\n",
       "      <th>Occupation</th>\n",
       "      <th>Marital_Status</th>\n",
       "      <th>Fixed_Monthly_Expenses</th>\n",
       "    </tr>\n",
       "  </thead>\n",
       "  <tbody>\n",
       "    <tr>\n",
       "      <th>0</th>\n",
       "      <td>Male</td>\n",
       "      <td>London</td>\n",
       "      <td>40400</td>\n",
       "      <td>Teacher</td>\n",
       "      <td>Single</td>\n",
       "      <td>2080</td>\n",
       "    </tr>\n",
       "    <tr>\n",
       "      <th>1</th>\n",
       "      <td>Female</td>\n",
       "      <td>Vancouver</td>\n",
       "      <td>62845</td>\n",
       "      <td>University Lecturer</td>\n",
       "      <td>Married</td>\n",
       "      <td>2927</td>\n",
       "    </tr>\n",
       "    <tr>\n",
       "      <th>2</th>\n",
       "      <td>Female</td>\n",
       "      <td>Montreal</td>\n",
       "      <td>66439</td>\n",
       "      <td>Analyst</td>\n",
       "      <td>Single</td>\n",
       "      <td>2811</td>\n",
       "    </tr>\n",
       "    <tr>\n",
       "      <th>3</th>\n",
       "      <td>Female</td>\n",
       "      <td>Winnipeg</td>\n",
       "      <td>101547</td>\n",
       "      <td>Marketing Manager</td>\n",
       "      <td>Common Law</td>\n",
       "      <td>3500</td>\n",
       "    </tr>\n",
       "    <tr>\n",
       "      <th>4</th>\n",
       "      <td>Male</td>\n",
       "      <td>Calgary</td>\n",
       "      <td>46424</td>\n",
       "      <td>Analyst</td>\n",
       "      <td>Single</td>\n",
       "      <td>1300</td>\n",
       "    </tr>\n",
       "  </tbody>\n",
       "</table>\n",
       "</div>"
      ],
      "text/plain": [
       "   Gender       City  Income           Occupation Marital_Status  \\\n",
       "0    Male     London   40400              Teacher         Single   \n",
       "1  Female  Vancouver   62845  University Lecturer        Married   \n",
       "2  Female   Montreal   66439              Analyst         Single   \n",
       "3  Female   Winnipeg  101547    Marketing Manager     Common Law   \n",
       "4    Male    Calgary   46424              Analyst         Single   \n",
       "\n",
       "   Fixed_Monthly_Expenses  \n",
       "0                    2080  \n",
       "1                    2927  \n",
       "2                    2811  \n",
       "3                    3500  \n",
       "4                    1300  "
      ]
     },
     "execution_count": 61,
     "metadata": {},
     "output_type": "execute_result"
    }
   ],
   "source": [
    "df.head()"
   ]
  },
  {
   "cell_type": "code",
   "execution_count": 69,
   "metadata": {},
   "outputs": [
    {
     "data": {
      "text/plain": [
       "Gender         Occupation                City       Marital_Status\n",
       "Female         Account Executive         Calgary    Single             86825.0\n",
       "               Analyst                   Montreal   Single             66439.0\n",
       "               Customer Service Manager  Montreal   Single             49374.0\n",
       "               Engineer                  Calgary    Married           106505.0\n",
       "               Investment Banker         Winnipeg   Common Law        107673.0\n",
       "               Marketing Manager         Winnipeg   Common Law        101547.0\n",
       "               Researcher                London     Married            54759.0\n",
       "               Teacher                   Toronto    Married            69109.0\n",
       "               University Lecturer       Vancouver  Married            62845.0\n",
       "Male           Account Manager           Winnipeg   Single             61500.0\n",
       "               Analyst                   Calgary    Single             46424.0\n",
       "               Associate Professor       Toronto    Common Law         78712.0\n",
       "               Customer Service Manager  Winnipeg   Single             47485.0\n",
       "               Marketing Analyst         Toronto    Common Law         64145.0\n",
       "               Operations Director       Toronto    Common Law        123891.0\n",
       "               Professor                 Calgary    Married            87062.0\n",
       "                                         London     Single             83477.0\n",
       "                                         Toronto    Married            97073.0\n",
       "               Real Estate Agent         London     Common Law         70443.0\n",
       "               Researcher                Calgary    Married            62459.0\n",
       "                                         Toronto    Single             67107.0\n",
       "               Teacher                   London     Single             40400.0\n",
       "Not Specified  Analyst                   Montreal   Single             59369.0\n",
       "               Engineer                  Calgary    Common Law         66174.0\n",
       "               Finance Executive         Toronto    Married           123771.0\n",
       "               Researcher                London     Common Law         60222.0\n",
       "                                         Winnipeg   Common Law         57983.0\n",
       "Name: Income, dtype: float64"
      ]
     },
     "execution_count": 69,
     "metadata": {},
     "output_type": "execute_result"
    }
   ],
   "source": [
    "# 11. Which people are most likely to have a high income, based on gender, occupation, city, or marital status?\n",
    "df.groupby(['Gender', 'Occupation', 'City', 'Marital_Status']) ['Income'].mean()"
   ]
  },
  {
   "cell_type": "code",
   "execution_count": 95,
   "metadata": {},
   "outputs": [
    {
     "data": {
      "text/plain": [
       "Gender\n",
       "Female           78341.777778\n",
       "Male             71552.153846\n",
       "Not Specified    73503.800000\n",
       "Name: Income, dtype: float64"
      ]
     },
     "execution_count": 95,
     "metadata": {},
     "output_type": "execute_result"
    }
   ],
   "source": [
    "df.groupby('Gender') ['Income'].mean()"
   ]
  },
  {
   "cell_type": "code",
   "execution_count": 96,
   "metadata": {},
   "outputs": [
    {
     "data": {
      "text/plain": [
       "'Female'"
      ]
     },
     "execution_count": 96,
     "metadata": {},
     "output_type": "execute_result"
    }
   ],
   "source": [
    "df.groupby('Gender') ['Income'].mean().idxmax()"
   ]
  },
  {
   "cell_type": "code",
   "execution_count": 71,
   "metadata": {},
   "outputs": [
    {
     "data": {
      "text/plain": [
       "Occupation\n",
       "Account Executive            86825.000000\n",
       "Account Manager              61500.000000\n",
       "Analyst                      57410.666667\n",
       "Associate Professor          78712.000000\n",
       "Customer Service Manager     48429.500000\n",
       "Engineer                     86339.500000\n",
       "Finance Executive           123771.000000\n",
       "Investment Banker           107673.000000\n",
       "Marketing Analyst            64145.000000\n",
       "Marketing Manager           101547.000000\n",
       "Operations Director         123891.000000\n",
       "Professor                    89204.000000\n",
       "Real Estate Agent            70443.000000\n",
       "Researcher                   60506.000000\n",
       "Teacher                      54754.500000\n",
       "University Lecturer          62845.000000\n",
       "Name: Income, dtype: float64"
      ]
     },
     "execution_count": 71,
     "metadata": {},
     "output_type": "execute_result"
    }
   ],
   "source": [
    "df.groupby('Occupation') ['Income'].mean()"
   ]
  },
  {
   "cell_type": "code",
   "execution_count": 97,
   "metadata": {},
   "outputs": [
    {
     "data": {
      "text/plain": [
       "'Operations Director'"
      ]
     },
     "execution_count": 97,
     "metadata": {},
     "output_type": "execute_result"
    }
   ],
   "source": [
    "df.groupby('Occupation') ['Income'].mean().idxmax()"
   ]
  },
  {
   "cell_type": "code",
   "execution_count": 72,
   "metadata": {},
   "outputs": [
    {
     "data": {
      "text/plain": [
       "City\n",
       "Calgary      75908.166667\n",
       "London       61860.200000\n",
       "Montreal     58394.000000\n",
       "Toronto      89115.428571\n",
       "Vancouver    62845.000000\n",
       "Winnipeg     75237.600000\n",
       "Name: Income, dtype: float64"
      ]
     },
     "execution_count": 72,
     "metadata": {},
     "output_type": "execute_result"
    }
   ],
   "source": [
    "df.groupby('City') ['Income'].mean()"
   ]
  },
  {
   "cell_type": "code",
   "execution_count": 102,
   "metadata": {},
   "outputs": [
    {
     "data": {
      "text/plain": [
       "'Toronto'"
      ]
     },
     "execution_count": 102,
     "metadata": {},
     "output_type": "execute_result"
    }
   ],
   "source": [
    "df.groupby('City') ['Income'].mean().idxmax()"
   ]
  },
  {
   "cell_type": "code",
   "execution_count": 73,
   "metadata": {},
   "outputs": [
    {
     "data": {
      "text/plain": [
       "Marital_Status\n",
       "Common Law    81198.888889\n",
       "Married       82947.875000\n",
       "Single        60840.000000\n",
       "Name: Income, dtype: float64"
      ]
     },
     "execution_count": 73,
     "metadata": {},
     "output_type": "execute_result"
    }
   ],
   "source": [
    "df.groupby('Marital_Status') ['Income'].mean()"
   ]
  },
  {
   "cell_type": "code",
   "execution_count": 107,
   "metadata": {},
   "outputs": [
    {
     "name": "stdout",
     "output_type": "stream",
     "text": [
      "Female have a Higher average Income\n",
      "The occupation with the highest average income is Operations Director\n",
      "The city with the highest average income is Toronto\n",
      "Married People have a higher average income\n"
     ]
    }
   ],
   "source": [
    "# 11. Which people are most likely to have a high income, based on gender, occupation, city, or marital status?\n",
    "print(f\"{df.groupby('Gender') ['Income'].mean().idxmax()} have a Higher average Income\")\n",
    "print(f\"The occupation with the highest average income is {df.groupby('Occupation') ['Income'].mean().idxmax() }\")\n",
    "print(f\"The city with the highest average income is {df.groupby('City')['Income'].mean().idxmax() }\")\n",
    "print(f\"{df.groupby('Marital_Status') ['Income'].mean().idxmax()} People have a higher average income\")"
   ]
  },
  {
   "cell_type": "markdown",
   "metadata": {},
   "source": [
    "Female have a Higher average Income <br>\n",
    "The occupation with the highest average income is Operations Director <br>\n",
    "The city with the highest average income is Toronto <br>\n",
    "Married People have a higher average income <br>"
   ]
  },
  {
   "cell_type": "code",
   "execution_count": 75,
   "metadata": {},
   "outputs": [
    {
     "data": {
      "text/plain": [
       "Income                    78341.777778\n",
       "Fixed_Monthly_Expenses     2881.222222\n",
       "dtype: float64"
      ]
     },
     "execution_count": 75,
     "metadata": {},
     "output_type": "execute_result"
    }
   ],
   "source": [
    "# 12. What conclusions can you make about Toronto women's income and expenses?\n",
    "df[df['Gender'] == 'Female'] [['Income', 'Fixed_Monthly_Expenses']].mean()\n",
    "# The average income for women is 78341.78 while their average monthly expenses are 2881.22"
   ]
  },
  {
   "cell_type": "code",
   "execution_count": 76,
   "metadata": {},
   "outputs": [
    {
     "data": {
      "text/html": [
       "<div>\n",
       "<style scoped>\n",
       "    .dataframe tbody tr th:only-of-type {\n",
       "        vertical-align: middle;\n",
       "    }\n",
       "\n",
       "    .dataframe tbody tr th {\n",
       "        vertical-align: top;\n",
       "    }\n",
       "\n",
       "    .dataframe thead th {\n",
       "        text-align: right;\n",
       "    }\n",
       "</style>\n",
       "<table border=\"1\" class=\"dataframe\">\n",
       "  <thead>\n",
       "    <tr style=\"text-align: right;\">\n",
       "      <th></th>\n",
       "      <th>Income</th>\n",
       "      <th>Fixed_Monthly_Expenses</th>\n",
       "    </tr>\n",
       "  </thead>\n",
       "  <tbody>\n",
       "    <tr>\n",
       "      <th>1</th>\n",
       "      <td>62845</td>\n",
       "      <td>2927</td>\n",
       "    </tr>\n",
       "    <tr>\n",
       "      <th>2</th>\n",
       "      <td>66439</td>\n",
       "      <td>2811</td>\n",
       "    </tr>\n",
       "    <tr>\n",
       "      <th>3</th>\n",
       "      <td>101547</td>\n",
       "      <td>3500</td>\n",
       "    </tr>\n",
       "    <tr>\n",
       "      <th>8</th>\n",
       "      <td>54759</td>\n",
       "      <td>2065</td>\n",
       "    </tr>\n",
       "    <tr>\n",
       "      <th>10</th>\n",
       "      <td>106505</td>\n",
       "      <td>4000</td>\n",
       "    </tr>\n",
       "    <tr>\n",
       "      <th>13</th>\n",
       "      <td>86825</td>\n",
       "      <td>2378</td>\n",
       "    </tr>\n",
       "    <tr>\n",
       "      <th>17</th>\n",
       "      <td>107673</td>\n",
       "      <td>3876</td>\n",
       "    </tr>\n",
       "    <tr>\n",
       "      <th>18</th>\n",
       "      <td>69109</td>\n",
       "      <td>2987</td>\n",
       "    </tr>\n",
       "    <tr>\n",
       "      <th>25</th>\n",
       "      <td>49374</td>\n",
       "      <td>1387</td>\n",
       "    </tr>\n",
       "  </tbody>\n",
       "</table>\n",
       "</div>"
      ],
      "text/plain": [
       "    Income  Fixed_Monthly_Expenses\n",
       "1    62845                    2927\n",
       "2    66439                    2811\n",
       "3   101547                    3500\n",
       "8    54759                    2065\n",
       "10  106505                    4000\n",
       "13   86825                    2378\n",
       "17  107673                    3876\n",
       "18   69109                    2987\n",
       "25   49374                    1387"
      ]
     },
     "execution_count": 76,
     "metadata": {},
     "output_type": "execute_result"
    }
   ],
   "source": [
    "df[df['Gender'] == 'Female'] [['Income', 'Fixed_Monthly_Expenses']]"
   ]
  },
  {
   "cell_type": "code",
   "execution_count": 80,
   "metadata": {},
   "outputs": [
    {
     "data": {
      "text/plain": [
       "City\n",
       "Calgary      106505\n",
       "London        83477\n",
       "Montreal      66439\n",
       "Toronto      123891\n",
       "Vancouver     62845\n",
       "Winnipeg     107673\n",
       "Name: Income, dtype: int64"
      ]
     },
     "execution_count": 80,
     "metadata": {},
     "output_type": "execute_result"
    }
   ],
   "source": [
    "#13. Which city has the highest income?\n",
    "df.groupby('City') ['Income'].max()"
   ]
  },
  {
   "cell_type": "code",
   "execution_count": 81,
   "metadata": {},
   "outputs": [
    {
     "data": {
      "text/html": [
       "<div>\n",
       "<style scoped>\n",
       "    .dataframe tbody tr th:only-of-type {\n",
       "        vertical-align: middle;\n",
       "    }\n",
       "\n",
       "    .dataframe tbody tr th {\n",
       "        vertical-align: top;\n",
       "    }\n",
       "\n",
       "    .dataframe thead th {\n",
       "        text-align: right;\n",
       "    }\n",
       "</style>\n",
       "<table border=\"1\" class=\"dataframe\">\n",
       "  <thead>\n",
       "    <tr style=\"text-align: right;\">\n",
       "      <th></th>\n",
       "      <th>Income</th>\n",
       "      <th>Fixed_Monthly_Expenses</th>\n",
       "    </tr>\n",
       "  </thead>\n",
       "  <tbody>\n",
       "    <tr>\n",
       "      <th>Income</th>\n",
       "      <td>1.000000</td>\n",
       "      <td>0.843101</td>\n",
       "    </tr>\n",
       "    <tr>\n",
       "      <th>Fixed_Monthly_Expenses</th>\n",
       "      <td>0.843101</td>\n",
       "      <td>1.000000</td>\n",
       "    </tr>\n",
       "  </tbody>\n",
       "</table>\n",
       "</div>"
      ],
      "text/plain": [
       "                          Income  Fixed_Monthly_Expenses\n",
       "Income                  1.000000                0.843101\n",
       "Fixed_Monthly_Expenses  0.843101                1.000000"
      ]
     },
     "execution_count": 81,
     "metadata": {},
     "output_type": "execute_result"
    }
   ],
   "source": [
    "#14. Calculate the correlation between income and expenses.\n",
    "df[['Income', 'Fixed_Monthly_Expenses']].corr()"
   ]
  },
  {
   "cell_type": "code",
   "execution_count": null,
   "metadata": {},
   "outputs": [],
   "source": []
  }
 ],
 "metadata": {
  "kernelspec": {
   "display_name": "Python 3 (ipykernel)",
   "language": "python",
   "name": "python3"
  },
  "language_info": {
   "codemirror_mode": {
    "name": "ipython",
    "version": 3
   },
   "file_extension": ".py",
   "mimetype": "text/x-python",
   "name": "python",
   "nbconvert_exporter": "python",
   "pygments_lexer": "ipython3",
   "version": "3.11.5"
  }
 },
 "nbformat": 4,
 "nbformat_minor": 4
}
