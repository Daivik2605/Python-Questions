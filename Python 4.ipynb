{
 "cells": [
  {
   "cell_type": "markdown",
   "metadata": {
    "id": "VH6M9w4yFnoK"
   },
   "source": [
    "### Problem 1: Extended Health Monitoring System\n",
    "\n",
    "\n"
   ]
  },
  {
   "cell_type": "code",
   "execution_count": 27,
   "metadata": {
    "id": "ccxquuVyFtyK"
   },
   "outputs": [
    {
     "name": "stdout",
     "output_type": "stream",
     "text": [
      "Hello!! Welcome to our Extended Health Monitoring System\n",
      "What is your name Daivik\n",
      "Enter steps for Day 1: 3434\n",
      "Enter steps for Day 2: 3434\n",
      "Enter steps for Day 3: 245\n",
      "Enter steps for Day 4: 2425\n",
      "Enter steps for Day 5: 2525\n",
      "Enter steps for Day 6: 3535\n",
      "Enter steps for Day 7: 35356\n",
      "The average number of steps in the week is:  7279.142857142857\n",
      "Feedback: Great Job being active\n",
      "3434\n",
      "3434\n",
      "245\n",
      "2425\n",
      "2525\n",
      "3535\n",
      "35356\n",
      "Feedback: Great Job being active\n"
     ]
    }
   ],
   "source": [
    "# Description:\n",
    "# Design a more comprehensive health monitoring system that keeps track of a user's daily steps and provides feedback based on their activity levels. Additionally, the system should:\n",
    "\n",
    "# Greet the user.\n",
    "print(\"Hello!! Welcome to our Extended Health Monitoring System\")\n",
    "# Ask for the user's name.\n",
    "name = input(\"What is your name \")\n",
    "# Collect step data for a specified number of days.\n",
    "steps = []\n",
    "for i in range(7):\n",
    "    steps.append(int(input(f\"Enter steps for Day {i+1}: \")))\n",
    "    \n",
    "\n",
    "# Calculate and return the average number of steps.\n",
    "avg_steps = sum(steps)/7\n",
    "print('The average number of steps in the week is: ', avg_steps)\n",
    "# Provide feedback based on the average number of steps.\n",
    "if avg_steps >= 1000:\n",
    "    Feedback = \"Feedback: Great Job being active\"\n",
    "    print(Feedback)\n",
    "else:\n",
    "    print(\"Feedback: Be more active\")\n",
    "# Store the step data and feedback in a text file.\n",
    "file1 = open(\"My_file.txt\",\"a\")\n",
    "\n",
    "# Write the lines in steps to the file\n",
    "with open(\"My_file.txt\", \"w\") as file1:\n",
    "    for i in steps:\n",
    "        file1.write(f\"{i}\\n\")\n",
    "    file1.write(Feedback + '\\n')\n",
    "# Read the contents of the file\n",
    "with open(\"My_file.txt\", \"r\") as file1:\n",
    "    contents = file1.readlines()\n",
    "    for line in contents:\n",
    "        print(line.strip())# Allow the user to review past records.\n"
   ]
  },
  {
   "cell_type": "code",
   "execution_count": 37,
   "metadata": {},
   "outputs": [
    {
     "name": "stdout",
     "output_type": "stream",
     "text": [
      "Welcome to the Health Monitoring System\n",
      "What is your name: Daivik\n",
      "Number of steps on 1: 234\n",
      "Number of steps on 2: 456\n",
      "Number of steps on 3: 424\n",
      "Number of steps on 4: 990\n",
      "Number of steps on 5: 878\n",
      "Number of steps on 6: 2456\n",
      "Number of steps on 7: 436\n",
      "Would you like to review past records? (yes/no): yes\n",
      "Here are all your past records:\n",
      "Daivik's step data: 234,456,424,990,878,2456,436\n",
      "\n",
      "Be more active\n",
      "\n",
      "Weekly Insights: \n",
      "Minimum number of steps is:  234\n",
      "Maximum number of steps is:  2456\n",
      "Average number of steps is:  839.1428571428571\n"
     ]
    }
   ],
   "source": [
    "# Provide insights on weekly progress using string formatting and string manipulation.\n",
    "# Requirements:\n",
    "# Use functions to handle user input and processing.\n",
    "# Use while loops to collect data for a specified number of days.\n",
    "# Use for loops to analyze the data.\n",
    "# Use string and mathematical functions to process the data.\n",
    "# Use file handling to store and retrieve records.\n",
    "# Use string formatting (format() and split()) to process the data.\n",
    "# Detailed Steps:\n",
    "\n",
    "# Write a function review_records(name) that retrieves and displays past records.\n",
    "# Write a function provide_weekly_insights(steps) that provides insights on the user's weekly progress.\n",
    "\n",
    "# Write a function greet() that greets the user.\n",
    "def greet():\n",
    "    print(\"Welcome to the Health Monitoring System\")\n",
    "    \n",
    "# Write a function get_name() that asks for and returns the user's name.\n",
    "def get_name():\n",
    "    name = input('What is your name: ')\n",
    "    return name\n",
    "\n",
    "# Write a function get_daily_steps(day) that prompts the user to enter their steps for the given day.\n",
    "def get_daily_steps(day):\n",
    "    while True:\n",
    "        steps = int(input(f'Number of steps on {day}: '))\n",
    "        if steps >= 0:\n",
    "            return steps\n",
    "        else:\n",
    "            print(\"Enter a non negative number\")\n",
    "            \n",
    "# Write a function calculate_average(steps) that calculates and returns the average number of steps.          \n",
    "def calculate_average(steps):\n",
    "    average_steps = sum(steps)/len(steps)\n",
    "    return average_steps\n",
    "\n",
    "# Write a function provide_feedback(average_steps) that provides feedback based on the average number of steps.\n",
    "def provide_feedback(average_steps):\n",
    "    if average_steps >= 5000:\n",
    "        feedback = \"Good job, you've been active\"\n",
    "        return feedback\n",
    "    else:\n",
    "        feedback = \"Be more active\"\n",
    "        return feedback\n",
    "        \n",
    "# Write a function log_steps(name, steps, feedback) that logs the steps and feedback to a text file.\n",
    "def log_steps(name, steps, feedback):\n",
    "    with open(f\"{name}_steps_record.txt\", 'a') as file:\n",
    "        file.write(f\"{name}'s step data: {','.join(map(str, steps))}\\n\")\n",
    "        file.write(f\"{feedback}\\n\")\n",
    "        \n",
    "# Write a function review_records(name) that retrieves and displays past records.\n",
    "def review_records(name):\n",
    "    try:\n",
    "        with open(f\"{name}_steps_record.txt\", \"r\") as file:\n",
    "            print(\"Here are all your past records:\")\n",
    "            for line in file:\n",
    "                print(line)\n",
    "    except FileNotFoundError:\n",
    "        print(\"No records\")\n",
    "# Write a function provide_weekly_insights(steps) that provides insights on the user's weekly progress.\n",
    "def provide_weekly_insights(steps):\n",
    "    print(\"Weekly Insights: \")\n",
    "    sorted_steps = sorted(steps)\n",
    "    print(\"Minimum number of steps is: \", sorted_steps[0])\n",
    "    print(\"Maximum number of steps is: \", sorted_steps[-1])\n",
    "    print(\"Average number of steps is: \", calculate_average(steps))\n",
    "# Implement the main loop to collect steps for a week (7 days) and provide feedback.\n",
    "def main():\n",
    "    greet()\n",
    "    name = get_name()\n",
    "    steps = []\n",
    "    day = 1\n",
    "    while day <= 7:\n",
    "        steps.append(get_daily_steps(day))\n",
    "        day = day+1\n",
    "    average_steps = calculate_average(steps)\n",
    "    feedback = provide_feedback(average_steps)\n",
    "    log_steps(name, steps, feedback)\n",
    "    yn = input(\"Would you like to review past records? (yes/no): \")\n",
    "    review_records(name)\n",
    "    provide_weekly_insights(steps)\n",
    "if __name__ == \"__main__\":\n",
    "    main()"
   ]
  },
  {
   "cell_type": "code",
   "execution_count": null,
   "metadata": {
    "id": "0CJmd11jGGid"
   },
   "outputs": [],
   "source": [
    "## Welcome to the Health Monitoring System.\n",
    "# What is your name?\n",
    "# Alice\n",
    "# Enter your steps for day 1: 5000\n",
    "# Enter your steps for day 2: 7000\n",
    "# Enter your steps for day 3: 6000\n",
    "# Enter your steps for day 4: 8000\n",
    "# Enter your steps for day 5: 10000\n",
    "# Enter your steps for day 6: 3000\n",
    "# Enter your steps for day 7: 9000\n",
    "# Your average steps per day: 7000.0\n",
    "# Feedback: Great job! You are very active.\n",
    "# Would you like to review past records? (yes/no)\n",
    "# yes\n",
    "# Reviewing past records for Alice...\n",
    "# [Date] Steps: 5000, 7000, 6000, 8000, 10000, 3000, 9000 - Feedback: Great job! You are very active.\n",
    "# Would you like to see your weekly insights? (yes/no)\n",
    "# yes\n",
    "# Weekly Insights:\n",
    "# - Your highest steps were on day 5 with 10000 steps.\n",
    "# - Your lowest steps were on day 6 with 3000 steps.\n",
    "# - Keep up the good work!\n"
   ]
  },
  {
   "cell_type": "markdown",
   "metadata": {
    "id": "L1L8278CGqNW"
   },
   "source": [
    "### Problem 2: Extended Text Processing - Chatbot Response System"
   ]
  },
  {
   "cell_type": "code",
   "execution_count": null,
   "metadata": {
    "id": "DsjkwlIarUyA"
   },
   "outputs": [],
   "source": [
    "# Description:\n",
    "# Create a more advanced chatbot that interacts with the user. The chatbot should:\n",
    "\n",
    "# Greet the user.\n",
    "# Ask for the user's name.\n",
    "# Respond to at least three different user inputs with predefined responses.\n",
    "# Handle unknown inputs gracefully.\n",
    "# Replace certain keywords in user input with synonyms before processing.\n",
    "# Use format_map() to format responses.\n",
    "# Use split(), find(), and replace() to process user inputs.\n",
    "# Requirements:\n",
    "\n",
    "# Use while loops to keep the conversation going.\n",
    "# Use functions to handle different parts of the conversation.\n",
    "# Use for loops and string functions (format_map(), split(), find(), replace()) to process user inputs.\n",
    "# Detailed Steps:\n",
    "\n",
    "# Write a function greet() that greets the user.\n",
    "# Write a function get_name() that asks for and returns the user's name.\n",
    "# Write a function respond(user_input) that takes the user's input and returns a predefined response.\n",
    "# Write a function replace_keywords(user_input) that replaces certain keywords in the user input with synonyms.\n",
    "# Implement the main chatbot loop that keeps asking for user inputs and responds until the user says \"bye.\""
   ]
  },
  {
   "cell_type": "markdown",
   "metadata": {
    "id": "hmxgaWs31COQ"
   },
   "source": [
    "responses = { \"how is the weather\": \"The weather is great! How can I help you today?\", \"tell me a joke\": \"Why don't scientists trust atoms? Because they make up everything!\", \"what's your name\": \"I am a chatbot, I don't have a name. How can I help you today?\" }"
   ]
  },
  {
   "cell_type": "markdown",
   "metadata": {
    "id": "41UG0Tdc0_KA"
   },
   "source": [
    "<!-- responses = { \"how is the weather\": \"The weather is great! How can I help you today?\", \"tell me a joke\": \"Why don't scientists trust atoms? Because they make up everything!\", \"what's your name\": \"I am a chatbot, I don't have a name. How can I help you today?\" } -->"
   ]
  },
  {
   "cell_type": "code",
   "execution_count": 1,
   "metadata": {
    "id": "QeM3DNCiGswd"
   },
   "outputs": [
    {
     "name": "stdout",
     "output_type": "stream",
     "text": [
      "Hello! Welcome to the chatbot\n",
      "What is your name: Alice\n",
      "Nice to meet you, Alice. How can I help you today?\n",
      "How is the weather?\n",
      "The weather is great! How can I help you today?\n",
      "Tell me a joke\n",
      "Why don't scientists trust atoms? Because they make up everything!\n",
      "bye\n",
      "Goodbye Alice\n"
     ]
    }
   ],
   "source": [
    "# Chatbot: Hello! Welcome to the chatbot.\n",
    "print(\"Hello! Welcome to the chatbot\")\n",
    "# Chatbot: What is your name?\n",
    "# User: Alice\n",
    "name = input(\"What is your name: \")\n",
    "# Chatbot: Nice to meet you, Alice. How can I help you today?\n",
    "print(f\"Nice to meet you, {name}. How can I help you today?\")\n",
    "# User: How is the weather?\n",
    "while True:\n",
    "    ques = input() \n",
    "    if ques == 'How is the weather?':\n",
    "        print(\"The weather is great! How can I help you today?\")\n",
    "    elif ques == \"Tell me a joke\":\n",
    "        print(\"Why don't scientists trust atoms? Because they make up everything!\")\n",
    "    elif ques == 'bye':\n",
    "        print(f\"Goodbye {name}\")\n",
    "        break;\n",
    "    else:\n",
    "        print(\"I'm not sure how to respond to that. Can you ask something else?\")\n",
    "# Chatbot: The weather is great! How can I help you today?\n",
    "# User: Tell me a joke.\n",
    "# Chatbot: Why don't scientists trust atoms? Because they make up everything!\n",
    "# User: bye\n",
    "# Chatbot: Goodbye, Alice!\n"
   ]
  },
  {
   "cell_type": "markdown",
   "metadata": {},
   "source": [
    "## 1.  Print First 10 natural numbers using while loop"
   ]
  },
  {
   "cell_type": "code",
   "execution_count": 6,
   "metadata": {},
   "outputs": [
    {
     "name": "stdout",
     "output_type": "stream",
     "text": [
      "0\n",
      "1\n",
      "2\n",
      "3\n",
      "4\n",
      "5\n",
      "6\n",
      "7\n",
      "8\n",
      "9\n"
     ]
    }
   ],
   "source": [
    "count = 0\n",
    "while count<10:\n",
    "    print(count)\n",
    "    count = count + 1"
   ]
  },
  {
   "cell_type": "markdown",
   "metadata": {},
   "source": [
    "## Print the following pattern"
   ]
  },
  {
   "cell_type": "code",
   "execution_count": 18,
   "metadata": {},
   "outputs": [
    {
     "name": "stdout",
     "output_type": "stream",
     "text": [
      "1 \n",
      "\n",
      "1 2 \n",
      "\n",
      "1 2 3 \n",
      "\n",
      "1 2 3 4 \n",
      "\n"
     ]
    }
   ],
   "source": [
    "rows = 4\n",
    "for i in range(1, rows+1):\n",
    "    for j in range(1, i+1):\n",
    "        print(j, end = ' ')\n",
    "    print('\\n')"
   ]
  },
  {
   "cell_type": "markdown",
   "metadata": {},
   "source": [
    "### Accept number from user and calculate the sum of all number between 1 and given number. "
   ]
  },
  {
   "cell_type": "code",
   "execution_count": 24,
   "metadata": {},
   "outputs": [
    {
     "name": "stdout",
     "output_type": "stream",
     "text": [
      "Enter a number: 10\n",
      "55\n"
     ]
    }
   ],
   "source": [
    "num = int(input(\"Enter a number: \"))\n",
    "sum = 0\n",
    "for i in range(1, num+1):\n",
    "    sum = sum + i\n",
    "#   print(sum)\n",
    "print(sum)"
   ]
  },
  {
   "cell_type": "markdown",
   "metadata": {},
   "source": [
    "###  Print multiplication table of given number."
   ]
  },
  {
   "cell_type": "code",
   "execution_count": 27,
   "metadata": {},
   "outputs": [
    {
     "name": "stdout",
     "output_type": "stream",
     "text": [
      "Enter a number: 5\n",
      "5\n",
      "10\n",
      "15\n",
      "20\n",
      "25\n",
      "30\n",
      "35\n",
      "40\n",
      "45\n",
      "50\n"
     ]
    }
   ],
   "source": [
    "num = int(input(\"Enter a number: \"))\n",
    "mul = 1\n",
    "for i in range(1, 11):\n",
    "    mul = num*i\n",
    "    print(mul)"
   ]
  },
  {
   "cell_type": "markdown",
   "metadata": {},
   "source": [
    "### Given a list iterate it and display numbers which are divisible by 5 and if you find number greater than 150 stop the loop iteration."
   ]
  },
  {
   "cell_type": "code",
   "execution_count": 35,
   "metadata": {},
   "outputs": [
    {
     "name": "stdout",
     "output_type": "stream",
     "text": [
      "15\n",
      "55\n",
      "75\n",
      "150\n"
     ]
    }
   ],
   "source": [
    "list1 = [12, 15, 32, 42, 55, 75, 122, 132, 150, 180, 200]\n",
    "\n",
    "for i in list1:\n",
    "    if i > 150:\n",
    "        break;\n",
    "    \n",
    "    if i%5 == 0:\n",
    "        print(i)"
   ]
  },
  {
   "cell_type": "markdown",
   "metadata": {},
   "source": [
    "### Given a number count the total number of digits in a number."
   ]
  },
  {
   "cell_type": "code",
   "execution_count": 36,
   "metadata": {},
   "outputs": [
    {
     "name": "stdout",
     "output_type": "stream",
     "text": [
      "6\n"
     ]
    }
   ],
   "source": [
    "num = 768579\n",
    "\n",
    "x = str(num)\n",
    "print(len(x))"
   ]
  },
  {
   "cell_type": "markdown",
   "metadata": {},
   "source": [
    "### Print the following pattern using for loop."
   ]
  },
  {
   "cell_type": "code",
   "execution_count": 39,
   "metadata": {},
   "outputs": [
    {
     "name": "stdout",
     "output_type": "stream",
     "text": [
      "5 4 3 2 1 \n",
      "4 3 2 1 \n",
      "3 2 1 \n",
      "2 1 \n",
      "1 \n"
     ]
    }
   ],
   "source": [
    "for i in range(5, 0, -1):\n",
    "    for j in range(i, 0, -1):\n",
    "        print(j, end = \" \")\n",
    "    print()"
   ]
  },
  {
   "cell_type": "markdown",
   "metadata": {},
   "source": [
    "### Reverse the following list using for loop"
   ]
  },
  {
   "cell_type": "code",
   "execution_count": 44,
   "metadata": {},
   "outputs": [
    {
     "name": "stdout",
     "output_type": "stream",
     "text": [
      "50\n",
      "40\n",
      "30\n",
      "20\n",
      "10\n"
     ]
    }
   ],
   "source": [
    "li = [10, 20, 30, 40, 50]\n",
    "\n",
    "for i in li[::-1]:\n",
    "    print(i)"
   ]
  },
  {
   "cell_type": "markdown",
   "metadata": {},
   "source": [
    "### Display a message “Done” after successful execution of for loop. "
   ]
  },
  {
   "cell_type": "code",
   "execution_count": 46,
   "metadata": {},
   "outputs": [
    {
     "name": "stdout",
     "output_type": "stream",
     "text": [
      "0\n",
      "1\n",
      "Done!\n"
     ]
    }
   ],
   "source": [
    "for i in range(2):\n",
    "    print(i)\n",
    "print('Done!')"
   ]
  },
  {
   "cell_type": "markdown",
   "metadata": {},
   "source": [
    "### Display Fibonacci series up to 10 terms"
   ]
  },
  {
   "cell_type": "code",
   "execution_count": 48,
   "metadata": {},
   "outputs": [
    {
     "name": "stdout",
     "output_type": "stream",
     "text": [
      "Fibonacci sequence:\n",
      "0 1 1 2 3 5 8 13 21 34 \n"
     ]
    }
   ],
   "source": [
    "num = 10\n",
    "\n",
    "def fibonacci(num):\n",
    "    fi_seq = [0, 1]\n",
    "    for i in range(2, num):\n",
    "        next_no = fi_seq[-1] + fi_seq[-2]\n",
    "        fi_seq.append(next_no)\n",
    "    return fi_seq[:num]\n",
    "sequence = fibonacci(num)\n",
    "\n",
    "# Print the Fibonacci sequence\n",
    "print(\"Fibonacci sequence:\")\n",
    "for number in sequence:\n",
    "    print(number, end=\" \")\n",
    "print()"
   ]
  },
  {
   "cell_type": "markdown",
   "metadata": {},
   "source": [
    "### Write a loop to find the factorial of any number."
   ]
  },
  {
   "cell_type": "code",
   "execution_count": 49,
   "metadata": {},
   "outputs": [
    {
     "name": "stdout",
     "output_type": "stream",
     "text": [
      "Factorial: 479001600\n"
     ]
    }
   ],
   "source": [
    "def factorial(n):\n",
    "    if n==0:\n",
    "        return 1\n",
    "    \n",
    "    res = 1\n",
    "    for i in range(1, n+1):\n",
    "        res = res * i\n",
    "    return res\n",
    "\n",
    "fact = factorial(12)\n",
    "print(f\"Factorial: {fact}\")"
   ]
  },
  {
   "cell_type": "markdown",
   "metadata": {},
   "source": [
    "### Prime number"
   ]
  },
  {
   "cell_type": "code",
   "execution_count": 50,
   "metadata": {},
   "outputs": [
    {
     "name": "stdout",
     "output_type": "stream",
     "text": [
      "Enter the start of the range: 3\n",
      "Enter the end of the range: 9\n",
      "Prime numbers between 3 and 9 are:\n",
      "3 5 7 \n"
     ]
    }
   ],
   "source": [
    "def is_prime(num):\n",
    "    if num <= 1:\n",
    "        return False\n",
    "    for i in range(2, int(num**0.5) + 1):\n",
    "        if num % i == 0:\n",
    "            return False\n",
    "    return True\n",
    "\n",
    "def display_primes(start, end):\n",
    "    \"\"\"Display all prime numbers within the specified range.\"\"\"\n",
    "    print(f\"Prime numbers between {start} and {end} are:\")\n",
    "    for number in range(start, end + 1):\n",
    "        if is_prime(number):\n",
    "            print(number, end=' ')\n",
    "    print()\n",
    "\n",
    "# Get the start and end of the range from the user\n",
    "start_range = int(input(\"Enter the start of the range: \"))\n",
    "end_range = int(input(\"Enter the end of the range: \"))\n",
    "\n",
    "# Display prime numbers in the given range\n",
    "display_primes(start_range, end_range)"
   ]
  },
  {
   "cell_type": "code",
   "execution_count": null,
   "metadata": {},
   "outputs": [],
   "source": []
  }
 ],
 "metadata": {
  "colab": {
   "provenance": []
  },
  "kernelspec": {
   "display_name": "Python 3 (ipykernel)",
   "language": "python",
   "name": "python3"
  },
  "language_info": {
   "codemirror_mode": {
    "name": "ipython",
    "version": 3
   },
   "file_extension": ".py",
   "mimetype": "text/x-python",
   "name": "python",
   "nbconvert_exporter": "python",
   "pygments_lexer": "ipython3",
   "version": "3.11.5"
  }
 },
 "nbformat": 4,
 "nbformat_minor": 1
}
