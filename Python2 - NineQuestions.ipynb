{
 "cells": [
  {
   "cell_type": "code",
   "execution_count": 1,
   "id": "70eacdcd",
   "metadata": {},
   "outputs": [],
   "source": [
    "# Importing Libraries - pandas\n",
    "import pandas as pd"
   ]
  },
  {
   "cell_type": "code",
   "execution_count": 2,
   "id": "9f9c5685",
   "metadata": {},
   "outputs": [],
   "source": [
    "# Reading the customer dataset\n",
    "cust_df = pd.read_csv(\"C:\\\\Users\\\\daivi\\\\Desktop\\\\AML 1114 - Data science and machine learning\\\\Code and Datasets\\\\WEEK 3\\\\2_customers.csv\")"
   ]
  },
  {
   "cell_type": "code",
   "execution_count": 3,
   "id": "ad83ad16",
   "metadata": {},
   "outputs": [],
   "source": [
    "# Reading the transactions dataset\n",
    "trans_df = pd.read_csv(\"C:\\\\Users\\\\daivi\\\\Desktop\\\\AML 1114 - Data science and machine learning\\\\Code and Datasets\\\\WEEK 3\\\\3_transactions.csv\")"
   ]
  },
  {
   "cell_type": "code",
   "execution_count": 4,
   "id": "8fb12493",
   "metadata": {},
   "outputs": [
    {
     "data": {
      "text/html": [
       "<div>\n",
       "<style scoped>\n",
       "    .dataframe tbody tr th:only-of-type {\n",
       "        vertical-align: middle;\n",
       "    }\n",
       "\n",
       "    .dataframe tbody tr th {\n",
       "        vertical-align: top;\n",
       "    }\n",
       "\n",
       "    .dataframe thead th {\n",
       "        text-align: right;\n",
       "    }\n",
       "</style>\n",
       "<table border=\"1\" class=\"dataframe\">\n",
       "  <thead>\n",
       "    <tr style=\"text-align: right;\">\n",
       "      <th></th>\n",
       "      <th>id</th>\n",
       "      <th>cust_name</th>\n",
       "      <th>num_products</th>\n",
       "      <th>province</th>\n",
       "      <th>len_relationship</th>\n",
       "      <th>cust_category</th>\n",
       "    </tr>\n",
       "  </thead>\n",
       "  <tbody>\n",
       "    <tr>\n",
       "      <th>0</th>\n",
       "      <td>1001</td>\n",
       "      <td>Johnny Awesome</td>\n",
       "      <td>3</td>\n",
       "      <td>ON</td>\n",
       "      <td>1</td>\n",
       "      <td>wealth</td>\n",
       "    </tr>\n",
       "    <tr>\n",
       "      <th>1</th>\n",
       "      <td>1002</td>\n",
       "      <td>Bob Marley</td>\n",
       "      <td>4</td>\n",
       "      <td>ON</td>\n",
       "      <td>1</td>\n",
       "      <td>personal_banking</td>\n",
       "    </tr>\n",
       "    <tr>\n",
       "      <th>2</th>\n",
       "      <td>1004</td>\n",
       "      <td>Taylor Swift</td>\n",
       "      <td>2</td>\n",
       "      <td>AB</td>\n",
       "      <td>2</td>\n",
       "      <td>hnw</td>\n",
       "    </tr>\n",
       "    <tr>\n",
       "      <th>3</th>\n",
       "      <td>1101</td>\n",
       "      <td>James Dean</td>\n",
       "      <td>3</td>\n",
       "      <td>BC</td>\n",
       "      <td>3</td>\n",
       "      <td>wealth</td>\n",
       "    </tr>\n",
       "    <tr>\n",
       "      <th>4</th>\n",
       "      <td>1006</td>\n",
       "      <td>Stephen Smith</td>\n",
       "      <td>5</td>\n",
       "      <td>ON</td>\n",
       "      <td>4</td>\n",
       "      <td>hnw</td>\n",
       "    </tr>\n",
       "  </tbody>\n",
       "</table>\n",
       "</div>"
      ],
      "text/plain": [
       "     id       cust_name  num_products province  len_relationship  \\\n",
       "0  1001  Johnny Awesome             3       ON                 1   \n",
       "1  1002      Bob Marley             4       ON                 1   \n",
       "2  1004    Taylor Swift             2       AB                 2   \n",
       "3  1101      James Dean             3       BC                 3   \n",
       "4  1006   Stephen Smith             5       ON                 4   \n",
       "\n",
       "      cust_category  \n",
       "0            wealth  \n",
       "1  personal_banking  \n",
       "2               hnw  \n",
       "3            wealth  \n",
       "4               hnw  "
      ]
     },
     "execution_count": 4,
     "metadata": {},
     "output_type": "execute_result"
    }
   ],
   "source": [
    "# Printing the top 5 records of customer dataset\n",
    "cust_df.head()"
   ]
  },
  {
   "cell_type": "code",
   "execution_count": 5,
   "id": "d7c99fec",
   "metadata": {},
   "outputs": [],
   "source": [
    "# Rename column id to cust_id\n",
    "cust_df.rename(columns = {'id' : 'cust_id'}, inplace = True)"
   ]
  },
  {
   "cell_type": "code",
   "execution_count": 6,
   "id": "cfcee6cc",
   "metadata": {},
   "outputs": [
    {
     "data": {
      "text/html": [
       "<div>\n",
       "<style scoped>\n",
       "    .dataframe tbody tr th:only-of-type {\n",
       "        vertical-align: middle;\n",
       "    }\n",
       "\n",
       "    .dataframe tbody tr th {\n",
       "        vertical-align: top;\n",
       "    }\n",
       "\n",
       "    .dataframe thead th {\n",
       "        text-align: right;\n",
       "    }\n",
       "</style>\n",
       "<table border=\"1\" class=\"dataframe\">\n",
       "  <thead>\n",
       "    <tr style=\"text-align: right;\">\n",
       "      <th></th>\n",
       "      <th>cust_id</th>\n",
       "      <th>cust_name</th>\n",
       "      <th>num_products</th>\n",
       "      <th>province</th>\n",
       "      <th>len_relationship</th>\n",
       "      <th>cust_category</th>\n",
       "    </tr>\n",
       "  </thead>\n",
       "  <tbody>\n",
       "    <tr>\n",
       "      <th>0</th>\n",
       "      <td>1001</td>\n",
       "      <td>Johnny Awesome</td>\n",
       "      <td>3</td>\n",
       "      <td>ON</td>\n",
       "      <td>1</td>\n",
       "      <td>wealth</td>\n",
       "    </tr>\n",
       "    <tr>\n",
       "      <th>1</th>\n",
       "      <td>1002</td>\n",
       "      <td>Bob Marley</td>\n",
       "      <td>4</td>\n",
       "      <td>ON</td>\n",
       "      <td>1</td>\n",
       "      <td>personal_banking</td>\n",
       "    </tr>\n",
       "    <tr>\n",
       "      <th>2</th>\n",
       "      <td>1004</td>\n",
       "      <td>Taylor Swift</td>\n",
       "      <td>2</td>\n",
       "      <td>AB</td>\n",
       "      <td>2</td>\n",
       "      <td>hnw</td>\n",
       "    </tr>\n",
       "    <tr>\n",
       "      <th>3</th>\n",
       "      <td>1101</td>\n",
       "      <td>James Dean</td>\n",
       "      <td>3</td>\n",
       "      <td>BC</td>\n",
       "      <td>3</td>\n",
       "      <td>wealth</td>\n",
       "    </tr>\n",
       "    <tr>\n",
       "      <th>4</th>\n",
       "      <td>1006</td>\n",
       "      <td>Stephen Smith</td>\n",
       "      <td>5</td>\n",
       "      <td>ON</td>\n",
       "      <td>4</td>\n",
       "      <td>hnw</td>\n",
       "    </tr>\n",
       "  </tbody>\n",
       "</table>\n",
       "</div>"
      ],
      "text/plain": [
       "   cust_id       cust_name  num_products province  len_relationship  \\\n",
       "0     1001  Johnny Awesome             3       ON                 1   \n",
       "1     1002      Bob Marley             4       ON                 1   \n",
       "2     1004    Taylor Swift             2       AB                 2   \n",
       "3     1101      James Dean             3       BC                 3   \n",
       "4     1006   Stephen Smith             5       ON                 4   \n",
       "\n",
       "      cust_category  \n",
       "0            wealth  \n",
       "1  personal_banking  \n",
       "2               hnw  \n",
       "3            wealth  \n",
       "4               hnw  "
      ]
     },
     "execution_count": 6,
     "metadata": {},
     "output_type": "execute_result"
    }
   ],
   "source": [
    "cust_df.head()"
   ]
  },
  {
   "cell_type": "code",
   "execution_count": 7,
   "id": "79c44656",
   "metadata": {},
   "outputs": [],
   "source": [
    "# Lets set the id as the index, otherwise we will face issues while merging\n",
    "cust_df = cust_df.set_index('cust_id')"
   ]
  },
  {
   "cell_type": "code",
   "execution_count": 8,
   "id": "c055e965",
   "metadata": {},
   "outputs": [
    {
     "data": {
      "text/html": [
       "<div>\n",
       "<style scoped>\n",
       "    .dataframe tbody tr th:only-of-type {\n",
       "        vertical-align: middle;\n",
       "    }\n",
       "\n",
       "    .dataframe tbody tr th {\n",
       "        vertical-align: top;\n",
       "    }\n",
       "\n",
       "    .dataframe thead th {\n",
       "        text-align: right;\n",
       "    }\n",
       "</style>\n",
       "<table border=\"1\" class=\"dataframe\">\n",
       "  <thead>\n",
       "    <tr style=\"text-align: right;\">\n",
       "      <th></th>\n",
       "      <th>cust_name</th>\n",
       "      <th>num_products</th>\n",
       "      <th>province</th>\n",
       "      <th>len_relationship</th>\n",
       "      <th>cust_category</th>\n",
       "    </tr>\n",
       "    <tr>\n",
       "      <th>cust_id</th>\n",
       "      <th></th>\n",
       "      <th></th>\n",
       "      <th></th>\n",
       "      <th></th>\n",
       "      <th></th>\n",
       "    </tr>\n",
       "  </thead>\n",
       "  <tbody>\n",
       "    <tr>\n",
       "      <th>1001</th>\n",
       "      <td>Johnny Awesome</td>\n",
       "      <td>3</td>\n",
       "      <td>ON</td>\n",
       "      <td>1</td>\n",
       "      <td>wealth</td>\n",
       "    </tr>\n",
       "    <tr>\n",
       "      <th>1002</th>\n",
       "      <td>Bob Marley</td>\n",
       "      <td>4</td>\n",
       "      <td>ON</td>\n",
       "      <td>1</td>\n",
       "      <td>personal_banking</td>\n",
       "    </tr>\n",
       "    <tr>\n",
       "      <th>1004</th>\n",
       "      <td>Taylor Swift</td>\n",
       "      <td>2</td>\n",
       "      <td>AB</td>\n",
       "      <td>2</td>\n",
       "      <td>hnw</td>\n",
       "    </tr>\n",
       "    <tr>\n",
       "      <th>1101</th>\n",
       "      <td>James Dean</td>\n",
       "      <td>3</td>\n",
       "      <td>BC</td>\n",
       "      <td>3</td>\n",
       "      <td>wealth</td>\n",
       "    </tr>\n",
       "    <tr>\n",
       "      <th>1006</th>\n",
       "      <td>Stephen Smith</td>\n",
       "      <td>5</td>\n",
       "      <td>ON</td>\n",
       "      <td>4</td>\n",
       "      <td>hnw</td>\n",
       "    </tr>\n",
       "  </tbody>\n",
       "</table>\n",
       "</div>"
      ],
      "text/plain": [
       "              cust_name  num_products province  len_relationship  \\\n",
       "cust_id                                                            \n",
       "1001     Johnny Awesome             3       ON                 1   \n",
       "1002         Bob Marley             4       ON                 1   \n",
       "1004       Taylor Swift             2       AB                 2   \n",
       "1101         James Dean             3       BC                 3   \n",
       "1006      Stephen Smith             5       ON                 4   \n",
       "\n",
       "            cust_category  \n",
       "cust_id                    \n",
       "1001               wealth  \n",
       "1002     personal_banking  \n",
       "1004                  hnw  \n",
       "1101               wealth  \n",
       "1006                  hnw  "
      ]
     },
     "execution_count": 8,
     "metadata": {},
     "output_type": "execute_result"
    }
   ],
   "source": [
    "cust_df.head()"
   ]
  },
  {
   "cell_type": "code",
   "execution_count": 9,
   "id": "2e43eb98",
   "metadata": {},
   "outputs": [
    {
     "data": {
      "text/html": [
       "<div>\n",
       "<style scoped>\n",
       "    .dataframe tbody tr th:only-of-type {\n",
       "        vertical-align: middle;\n",
       "    }\n",
       "\n",
       "    .dataframe tbody tr th {\n",
       "        vertical-align: top;\n",
       "    }\n",
       "\n",
       "    .dataframe thead th {\n",
       "        text-align: right;\n",
       "    }\n",
       "</style>\n",
       "<table border=\"1\" class=\"dataframe\">\n",
       "  <thead>\n",
       "    <tr style=\"text-align: right;\">\n",
       "      <th></th>\n",
       "      <th>id</th>\n",
       "      <th>customer_id</th>\n",
       "      <th>txn_type</th>\n",
       "      <th>txn_total</th>\n",
       "    </tr>\n",
       "  </thead>\n",
       "  <tbody>\n",
       "    <tr>\n",
       "      <th>0</th>\n",
       "      <td>1</td>\n",
       "      <td>1001</td>\n",
       "      <td>Debit</td>\n",
       "      <td>165.78</td>\n",
       "    </tr>\n",
       "    <tr>\n",
       "      <th>1</th>\n",
       "      <td>2</td>\n",
       "      <td>1001</td>\n",
       "      <td>Credit</td>\n",
       "      <td>42.10</td>\n",
       "    </tr>\n",
       "    <tr>\n",
       "      <th>2</th>\n",
       "      <td>4</td>\n",
       "      <td>1001</td>\n",
       "      <td>Credit</td>\n",
       "      <td>103.03</td>\n",
       "    </tr>\n",
       "    <tr>\n",
       "      <th>3</th>\n",
       "      <td>5</td>\n",
       "      <td>1001</td>\n",
       "      <td>Credit</td>\n",
       "      <td>56.60</td>\n",
       "    </tr>\n",
       "    <tr>\n",
       "      <th>4</th>\n",
       "      <td>6</td>\n",
       "      <td>1002</td>\n",
       "      <td>Debit</td>\n",
       "      <td>214.34</td>\n",
       "    </tr>\n",
       "  </tbody>\n",
       "</table>\n",
       "</div>"
      ],
      "text/plain": [
       "   id  customer_id txn_type  txn_total\n",
       "0   1         1001    Debit     165.78\n",
       "1   2         1001   Credit      42.10\n",
       "2   4         1001   Credit     103.03\n",
       "3   5         1001   Credit      56.60\n",
       "4   6         1002    Debit     214.34"
      ]
     },
     "execution_count": 9,
     "metadata": {},
     "output_type": "execute_result"
    }
   ],
   "source": [
    "# Printing the top 5 records of transaction dataset\n",
    "trans_df.head()"
   ]
  },
  {
   "cell_type": "code",
   "execution_count": 10,
   "id": "1f07ea00",
   "metadata": {},
   "outputs": [],
   "source": [
    "# Merging the datasets\n",
    "merged_df = pd.merge(\n",
    "    left = trans_df,\n",
    "    right = cust_df,\n",
    "    left_on = 'customer_id',\n",
    "    right_index = True\n",
    ")\n"
   ]
  },
  {
   "cell_type": "code",
   "execution_count": 11,
   "id": "a9d2f106",
   "metadata": {},
   "outputs": [
    {
     "data": {
      "text/html": [
       "<div>\n",
       "<style scoped>\n",
       "    .dataframe tbody tr th:only-of-type {\n",
       "        vertical-align: middle;\n",
       "    }\n",
       "\n",
       "    .dataframe tbody tr th {\n",
       "        vertical-align: top;\n",
       "    }\n",
       "\n",
       "    .dataframe thead th {\n",
       "        text-align: right;\n",
       "    }\n",
       "</style>\n",
       "<table border=\"1\" class=\"dataframe\">\n",
       "  <thead>\n",
       "    <tr style=\"text-align: right;\">\n",
       "      <th></th>\n",
       "      <th>id</th>\n",
       "      <th>customer_id</th>\n",
       "      <th>txn_type</th>\n",
       "      <th>txn_total</th>\n",
       "      <th>cust_name</th>\n",
       "      <th>num_products</th>\n",
       "      <th>province</th>\n",
       "      <th>len_relationship</th>\n",
       "      <th>cust_category</th>\n",
       "    </tr>\n",
       "  </thead>\n",
       "  <tbody>\n",
       "    <tr>\n",
       "      <th>0</th>\n",
       "      <td>1</td>\n",
       "      <td>1001</td>\n",
       "      <td>Debit</td>\n",
       "      <td>165.78</td>\n",
       "      <td>Johnny Awesome</td>\n",
       "      <td>3</td>\n",
       "      <td>ON</td>\n",
       "      <td>1</td>\n",
       "      <td>wealth</td>\n",
       "    </tr>\n",
       "    <tr>\n",
       "      <th>1</th>\n",
       "      <td>2</td>\n",
       "      <td>1001</td>\n",
       "      <td>Credit</td>\n",
       "      <td>42.10</td>\n",
       "      <td>Johnny Awesome</td>\n",
       "      <td>3</td>\n",
       "      <td>ON</td>\n",
       "      <td>1</td>\n",
       "      <td>wealth</td>\n",
       "    </tr>\n",
       "    <tr>\n",
       "      <th>2</th>\n",
       "      <td>4</td>\n",
       "      <td>1001</td>\n",
       "      <td>Credit</td>\n",
       "      <td>103.03</td>\n",
       "      <td>Johnny Awesome</td>\n",
       "      <td>3</td>\n",
       "      <td>ON</td>\n",
       "      <td>1</td>\n",
       "      <td>wealth</td>\n",
       "    </tr>\n",
       "    <tr>\n",
       "      <th>3</th>\n",
       "      <td>5</td>\n",
       "      <td>1001</td>\n",
       "      <td>Credit</td>\n",
       "      <td>56.60</td>\n",
       "      <td>Johnny Awesome</td>\n",
       "      <td>3</td>\n",
       "      <td>ON</td>\n",
       "      <td>1</td>\n",
       "      <td>wealth</td>\n",
       "    </tr>\n",
       "    <tr>\n",
       "      <th>4</th>\n",
       "      <td>6</td>\n",
       "      <td>1002</td>\n",
       "      <td>Debit</td>\n",
       "      <td>214.34</td>\n",
       "      <td>Bob Marley</td>\n",
       "      <td>4</td>\n",
       "      <td>ON</td>\n",
       "      <td>1</td>\n",
       "      <td>personal_banking</td>\n",
       "    </tr>\n",
       "  </tbody>\n",
       "</table>\n",
       "</div>"
      ],
      "text/plain": [
       "   id  customer_id txn_type  txn_total       cust_name  num_products province  \\\n",
       "0   1         1001    Debit     165.78  Johnny Awesome             3       ON   \n",
       "1   2         1001   Credit      42.10  Johnny Awesome             3       ON   \n",
       "2   4         1001   Credit     103.03  Johnny Awesome             3       ON   \n",
       "3   5         1001   Credit      56.60  Johnny Awesome             3       ON   \n",
       "4   6         1002    Debit     214.34      Bob Marley             4       ON   \n",
       "\n",
       "   len_relationship     cust_category  \n",
       "0                 1            wealth  \n",
       "1                 1            wealth  \n",
       "2                 1            wealth  \n",
       "3                 1            wealth  \n",
       "4                 1  personal_banking  "
      ]
     },
     "execution_count": 11,
     "metadata": {},
     "output_type": "execute_result"
    }
   ],
   "source": [
    "# Printing the top 5 records of merged dataframe\n",
    "merged_df.head()"
   ]
  },
  {
   "cell_type": "markdown",
   "id": "3fb57e64",
   "metadata": {},
   "source": [
    "### Q1. Write a function to display a Series object with only the names of Wealth customers."
   ]
  },
  {
   "cell_type": "code",
   "execution_count": 12,
   "id": "e0be6b15",
   "metadata": {},
   "outputs": [
    {
     "data": {
      "text/plain": [
       "cust_id\n",
       "1001    Johnny Awesome\n",
       "1101        James Dean\n",
       "1285        Maria Alva\n",
       "1585      Steven Prime\n",
       "Name: cust_name, dtype: object"
      ]
     },
     "execution_count": 12,
     "metadata": {},
     "output_type": "execute_result"
    }
   ],
   "source": [
    "cust_df[cust_df['cust_category'] == 'wealth'] ['cust_name']"
   ]
  },
  {
   "cell_type": "markdown",
   "id": "0ab10c21",
   "metadata": {},
   "source": [
    "<b>The wealthy customers are:<br>\n",
    "1. Johnny Awesome <br>\n",
    "2. Maria Alva <br>\n",
    "3. Steven Prime <br>\n",
    "4. James Dean"
   ]
  },
  {
   "cell_type": "markdown",
   "id": "9475b83b",
   "metadata": {},
   "source": [
    "### Q2. Write a function to identify all PersonalBanking customers with more than 3 products."
   ]
  },
  {
   "cell_type": "code",
   "execution_count": 13,
   "id": "9061ed72",
   "metadata": {},
   "outputs": [
    {
     "data": {
      "text/html": [
       "<div>\n",
       "<style scoped>\n",
       "    .dataframe tbody tr th:only-of-type {\n",
       "        vertical-align: middle;\n",
       "    }\n",
       "\n",
       "    .dataframe tbody tr th {\n",
       "        vertical-align: top;\n",
       "    }\n",
       "\n",
       "    .dataframe thead th {\n",
       "        text-align: right;\n",
       "    }\n",
       "</style>\n",
       "<table border=\"1\" class=\"dataframe\">\n",
       "  <thead>\n",
       "    <tr style=\"text-align: right;\">\n",
       "      <th></th>\n",
       "      <th>cust_name</th>\n",
       "      <th>num_products</th>\n",
       "      <th>cust_category</th>\n",
       "    </tr>\n",
       "    <tr>\n",
       "      <th>cust_id</th>\n",
       "      <th></th>\n",
       "      <th></th>\n",
       "      <th></th>\n",
       "    </tr>\n",
       "  </thead>\n",
       "  <tbody>\n",
       "    <tr>\n",
       "      <th>1002</th>\n",
       "      <td>Bob Marley</td>\n",
       "      <td>4</td>\n",
       "      <td>personal_banking</td>\n",
       "    </tr>\n",
       "    <tr>\n",
       "      <th>1354</th>\n",
       "      <td>Jessica Fast</td>\n",
       "      <td>4</td>\n",
       "      <td>personal_banking</td>\n",
       "    </tr>\n",
       "  </tbody>\n",
       "</table>\n",
       "</div>"
      ],
      "text/plain": [
       "            cust_name  num_products     cust_category\n",
       "cust_id                                              \n",
       "1002       Bob Marley             4  personal_banking\n",
       "1354     Jessica Fast             4  personal_banking"
      ]
     },
     "execution_count": 13,
     "metadata": {},
     "output_type": "execute_result"
    }
   ],
   "source": [
    "cust_df[(cust_df['cust_category'] == 'personal_banking') & (cust_df['num_products'] > 3)] [['cust_name', 'num_products', 'cust_category']]"
   ]
  },
  {
   "cell_type": "markdown",
   "id": "139d5cb6",
   "metadata": {},
   "source": [
    "The customers who are Personal Banking Customers with more than 3 products are - Bob Marley and Jessica Fast"
   ]
  },
  {
   "cell_type": "markdown",
   "id": "1bf402a7",
   "metadata": {},
   "source": [
    "### Q3. What is the average spend of customers in Alberta?"
   ]
  },
  {
   "cell_type": "code",
   "execution_count": 14,
   "id": "4dc1e06b",
   "metadata": {},
   "outputs": [
    {
     "data": {
      "text/html": [
       "<div>\n",
       "<style scoped>\n",
       "    .dataframe tbody tr th:only-of-type {\n",
       "        vertical-align: middle;\n",
       "    }\n",
       "\n",
       "    .dataframe tbody tr th {\n",
       "        vertical-align: top;\n",
       "    }\n",
       "\n",
       "    .dataframe thead th {\n",
       "        text-align: right;\n",
       "    }\n",
       "</style>\n",
       "<table border=\"1\" class=\"dataframe\">\n",
       "  <thead>\n",
       "    <tr style=\"text-align: right;\">\n",
       "      <th></th>\n",
       "      <th>id</th>\n",
       "      <th>customer_id</th>\n",
       "      <th>txn_type</th>\n",
       "      <th>txn_total</th>\n",
       "      <th>cust_name</th>\n",
       "      <th>num_products</th>\n",
       "      <th>province</th>\n",
       "      <th>len_relationship</th>\n",
       "      <th>cust_category</th>\n",
       "    </tr>\n",
       "  </thead>\n",
       "  <tbody>\n",
       "    <tr>\n",
       "      <th>0</th>\n",
       "      <td>1</td>\n",
       "      <td>1001</td>\n",
       "      <td>Debit</td>\n",
       "      <td>165.78</td>\n",
       "      <td>Johnny Awesome</td>\n",
       "      <td>3</td>\n",
       "      <td>ON</td>\n",
       "      <td>1</td>\n",
       "      <td>wealth</td>\n",
       "    </tr>\n",
       "    <tr>\n",
       "      <th>1</th>\n",
       "      <td>2</td>\n",
       "      <td>1001</td>\n",
       "      <td>Credit</td>\n",
       "      <td>42.10</td>\n",
       "      <td>Johnny Awesome</td>\n",
       "      <td>3</td>\n",
       "      <td>ON</td>\n",
       "      <td>1</td>\n",
       "      <td>wealth</td>\n",
       "    </tr>\n",
       "    <tr>\n",
       "      <th>2</th>\n",
       "      <td>4</td>\n",
       "      <td>1001</td>\n",
       "      <td>Credit</td>\n",
       "      <td>103.03</td>\n",
       "      <td>Johnny Awesome</td>\n",
       "      <td>3</td>\n",
       "      <td>ON</td>\n",
       "      <td>1</td>\n",
       "      <td>wealth</td>\n",
       "    </tr>\n",
       "    <tr>\n",
       "      <th>3</th>\n",
       "      <td>5</td>\n",
       "      <td>1001</td>\n",
       "      <td>Credit</td>\n",
       "      <td>56.60</td>\n",
       "      <td>Johnny Awesome</td>\n",
       "      <td>3</td>\n",
       "      <td>ON</td>\n",
       "      <td>1</td>\n",
       "      <td>wealth</td>\n",
       "    </tr>\n",
       "    <tr>\n",
       "      <th>4</th>\n",
       "      <td>6</td>\n",
       "      <td>1002</td>\n",
       "      <td>Debit</td>\n",
       "      <td>214.34</td>\n",
       "      <td>Bob Marley</td>\n",
       "      <td>4</td>\n",
       "      <td>ON</td>\n",
       "      <td>1</td>\n",
       "      <td>personal_banking</td>\n",
       "    </tr>\n",
       "  </tbody>\n",
       "</table>\n",
       "</div>"
      ],
      "text/plain": [
       "   id  customer_id txn_type  txn_total       cust_name  num_products province  \\\n",
       "0   1         1001    Debit     165.78  Johnny Awesome             3       ON   \n",
       "1   2         1001   Credit      42.10  Johnny Awesome             3       ON   \n",
       "2   4         1001   Credit     103.03  Johnny Awesome             3       ON   \n",
       "3   5         1001   Credit      56.60  Johnny Awesome             3       ON   \n",
       "4   6         1002    Debit     214.34      Bob Marley             4       ON   \n",
       "\n",
       "   len_relationship     cust_category  \n",
       "0                 1            wealth  \n",
       "1                 1            wealth  \n",
       "2                 1            wealth  \n",
       "3                 1            wealth  \n",
       "4                 1  personal_banking  "
      ]
     },
     "execution_count": 14,
     "metadata": {},
     "output_type": "execute_result"
    }
   ],
   "source": [
    "# Printing the top 5 records of merged dataframe\n",
    "merged_df.head()"
   ]
  },
  {
   "cell_type": "code",
   "execution_count": 15,
   "id": "7c88f319",
   "metadata": {},
   "outputs": [
    {
     "data": {
      "text/plain": [
       "207.29676470588237"
      ]
     },
     "execution_count": 15,
     "metadata": {},
     "output_type": "execute_result"
    }
   ],
   "source": [
    "# Calculating the mean directly\n",
    "merged_df['txn_total'].mean()"
   ]
  },
  {
   "cell_type": "code",
   "execution_count": 16,
   "id": "b37002ed",
   "metadata": {},
   "outputs": [
    {
     "name": "stdout",
     "output_type": "stream",
     "text": [
      "The average spend of all customers from Alberta is:  208.98\n"
     ]
    }
   ],
   "source": [
    "# Average spend of all customers from Alberta\n",
    "print(f\"The average spend of all customers from Alberta is:  { round(merged_df[merged_df['province'] == 'AB'] ['txn_total'].mean(), 2)}\")"
   ]
  },
  {
   "cell_type": "markdown",
   "id": "3c7ab036",
   "metadata": {},
   "source": [
    "### Q4. How many personal banking customers are there in each province?"
   ]
  },
  {
   "cell_type": "code",
   "execution_count": 24,
   "id": "d189cd62",
   "metadata": {},
   "outputs": [
    {
     "name": "stdout",
     "output_type": "stream",
     "text": [
      "The number of personal banking customers in each province: \n",
      "province\n",
      "AB    3\n",
      "BC    6\n",
      "ON    6\n",
      "dtype: int64\n"
     ]
    }
   ],
   "source": [
    "print(f\"The number of personal banking customers in each province: \\n{merged_df[(merged_df['cust_category'] == 'personal_banking')].groupby('province').size()}\")"
   ]
  },
  {
   "cell_type": "markdown",
   "id": "99140d42",
   "metadata": {},
   "source": [
    "### Q5. Who are the top 3 customers with the highest spend?"
   ]
  },
  {
   "cell_type": "code",
   "execution_count": 37,
   "id": "4660fab0",
   "metadata": {},
   "outputs": [
    {
     "name": "stdout",
     "output_type": "stream",
     "text": [
      "cust_name\n",
      "Bob Marley            351.40\n",
      "Delilah Avery         700.43\n",
      "Jessica Fast          909.87\n",
      "Johnny Awesome        367.51\n",
      "Johnson Cory          506.26\n",
      "Maria Alva            811.40\n",
      "Mariah Anita Smith    801.69\n",
      "Robert Optimus        599.19\n",
      "Stephanie Element     682.40\n",
      "Stephen Smith         225.89\n",
      "Steven Prime          858.55\n",
      "Taylor Swift          233.50\n",
      "Name: txn_total, dtype: float64\n"
     ]
    }
   ],
   "source": [
    "# Lets first take the total_spend of each customer\n",
    "total_spend = merged_df.groupby('cust_name') ['txn_total'].sum()\n",
    "print(total_spend)"
   ]
  },
  {
   "cell_type": "code",
   "execution_count": 41,
   "id": "27909585",
   "metadata": {},
   "outputs": [
    {
     "data": {
      "text/plain": [
       "cust_name\n",
       "Maria Alva      811.40\n",
       "Steven Prime    858.55\n",
       "Jessica Fast    909.87\n",
       "Name: txn_total, dtype: float64"
      ]
     },
     "execution_count": 41,
     "metadata": {},
     "output_type": "execute_result"
    }
   ],
   "source": [
    "# Now lets sort it and fetch the bottom 3 values as sort_values function arranges the values in ascending order\n",
    "total_spend.sort_values().tail(3)"
   ]
  },
  {
   "cell_type": "markdown",
   "id": "9b68e2b5",
   "metadata": {},
   "source": [
    "**The top 3 customers with the highest spend:** <br>\n",
    "Maria Alva    -  811.40 <br>\n",
    "Steven Prime  -  858.55 <br>\n",
    "Jessica Fast  -  909.87"
   ]
  },
  {
   "cell_type": "markdown",
   "id": "97f37928",
   "metadata": {},
   "source": [
    "### Q6. Which customer has the highest single transaction?"
   ]
  },
  {
   "cell_type": "code",
   "execution_count": 42,
   "id": "88aa09c2",
   "metadata": {},
   "outputs": [
    {
     "data": {
      "text/plain": [
       "cust_name\n",
       "Bob Marley            214.34\n",
       "Delilah Avery         449.39\n",
       "Jessica Fast          438.29\n",
       "Johnny Awesome        165.78\n",
       "Johnson Cory          255.21\n",
       "Maria Alva            393.91\n",
       "Mariah Anita Smith    403.62\n",
       "Robert Optimus        242.73\n",
       "Stephanie Element     328.72\n",
       "Stephen Smith         225.89\n",
       "Steven Prime          320.40\n",
       "Taylor Swift          227.58\n",
       "Name: txn_total, dtype: float64"
      ]
     },
     "execution_count": 42,
     "metadata": {},
     "output_type": "execute_result"
    }
   ],
   "source": [
    "merged_df.groupby('cust_name') ['txn_total'].max()"
   ]
  },
  {
   "cell_type": "code",
   "execution_count": 44,
   "id": "53384723",
   "metadata": {},
   "outputs": [
    {
     "data": {
      "text/html": [
       "<div>\n",
       "<style scoped>\n",
       "    .dataframe tbody tr th:only-of-type {\n",
       "        vertical-align: middle;\n",
       "    }\n",
       "\n",
       "    .dataframe tbody tr th {\n",
       "        vertical-align: top;\n",
       "    }\n",
       "\n",
       "    .dataframe thead th {\n",
       "        text-align: right;\n",
       "    }\n",
       "</style>\n",
       "<table border=\"1\" class=\"dataframe\">\n",
       "  <thead>\n",
       "    <tr style=\"text-align: right;\">\n",
       "      <th></th>\n",
       "      <th>cust_name</th>\n",
       "      <th>txn_total</th>\n",
       "    </tr>\n",
       "  </thead>\n",
       "  <tbody>\n",
       "    <tr>\n",
       "      <th>18</th>\n",
       "      <td>Delilah Avery</td>\n",
       "      <td>449.39</td>\n",
       "    </tr>\n",
       "  </tbody>\n",
       "</table>\n",
       "</div>"
      ],
      "text/plain": [
       "        cust_name  txn_total\n",
       "18  Delilah Avery     449.39"
      ]
     },
     "execution_count": 44,
     "metadata": {},
     "output_type": "execute_result"
    }
   ],
   "source": [
    "merged_df[merged_df['txn_total'] == merged_df['txn_total'].max()] [['cust_name', 'txn_total']]"
   ]
  },
  {
   "cell_type": "markdown",
   "id": "adde6d84",
   "metadata": {},
   "source": [
    "Delilah Avery is the highest single transaction of 449.39"
   ]
  },
  {
   "cell_type": "markdown",
   "id": "7a063199",
   "metadata": {},
   "source": [
    "### Q7. What is the average spend by Province and Customer Category?"
   ]
  },
  {
   "cell_type": "code",
   "execution_count": 48,
   "id": "89a9c0e7",
   "metadata": {},
   "outputs": [
    {
     "data": {
      "text/plain": [
       "province  cust_category   \n",
       "AB        hnw                 147.952000\n",
       "          personal_banking    233.476667\n",
       "          wealth              286.183333\n",
       "BC        personal_banking    285.260000\n",
       "MB        hnw                 199.730000\n",
       "ON        hnw                 225.890000\n",
       "          personal_banking    172.300000\n",
       "          wealth              168.415714\n",
       "Name: txn_total, dtype: float64"
      ]
     },
     "execution_count": 48,
     "metadata": {},
     "output_type": "execute_result"
    }
   ],
   "source": [
    "merged_df.groupby(['province', 'cust_category'])['txn_total'].mean()"
   ]
  },
  {
   "cell_type": "markdown",
   "id": "81889ce7",
   "metadata": {},
   "source": [
    "### Q8. What is the average spend by transaction type (e.g. credit, debit, cash)?"
   ]
  },
  {
   "cell_type": "code",
   "execution_count": 49,
   "id": "15cd4b91",
   "metadata": {},
   "outputs": [
    {
     "data": {
      "text/html": [
       "<div>\n",
       "<style scoped>\n",
       "    .dataframe tbody tr th:only-of-type {\n",
       "        vertical-align: middle;\n",
       "    }\n",
       "\n",
       "    .dataframe tbody tr th {\n",
       "        vertical-align: top;\n",
       "    }\n",
       "\n",
       "    .dataframe thead th {\n",
       "        text-align: right;\n",
       "    }\n",
       "</style>\n",
       "<table border=\"1\" class=\"dataframe\">\n",
       "  <thead>\n",
       "    <tr style=\"text-align: right;\">\n",
       "      <th></th>\n",
       "      <th>id</th>\n",
       "      <th>customer_id</th>\n",
       "      <th>txn_type</th>\n",
       "      <th>txn_total</th>\n",
       "      <th>cust_name</th>\n",
       "      <th>num_products</th>\n",
       "      <th>province</th>\n",
       "      <th>len_relationship</th>\n",
       "      <th>cust_category</th>\n",
       "    </tr>\n",
       "  </thead>\n",
       "  <tbody>\n",
       "    <tr>\n",
       "      <th>0</th>\n",
       "      <td>1</td>\n",
       "      <td>1001</td>\n",
       "      <td>Debit</td>\n",
       "      <td>165.78</td>\n",
       "      <td>Johnny Awesome</td>\n",
       "      <td>3</td>\n",
       "      <td>ON</td>\n",
       "      <td>1</td>\n",
       "      <td>wealth</td>\n",
       "    </tr>\n",
       "    <tr>\n",
       "      <th>1</th>\n",
       "      <td>2</td>\n",
       "      <td>1001</td>\n",
       "      <td>Credit</td>\n",
       "      <td>42.10</td>\n",
       "      <td>Johnny Awesome</td>\n",
       "      <td>3</td>\n",
       "      <td>ON</td>\n",
       "      <td>1</td>\n",
       "      <td>wealth</td>\n",
       "    </tr>\n",
       "    <tr>\n",
       "      <th>2</th>\n",
       "      <td>4</td>\n",
       "      <td>1001</td>\n",
       "      <td>Credit</td>\n",
       "      <td>103.03</td>\n",
       "      <td>Johnny Awesome</td>\n",
       "      <td>3</td>\n",
       "      <td>ON</td>\n",
       "      <td>1</td>\n",
       "      <td>wealth</td>\n",
       "    </tr>\n",
       "    <tr>\n",
       "      <th>3</th>\n",
       "      <td>5</td>\n",
       "      <td>1001</td>\n",
       "      <td>Credit</td>\n",
       "      <td>56.60</td>\n",
       "      <td>Johnny Awesome</td>\n",
       "      <td>3</td>\n",
       "      <td>ON</td>\n",
       "      <td>1</td>\n",
       "      <td>wealth</td>\n",
       "    </tr>\n",
       "    <tr>\n",
       "      <th>4</th>\n",
       "      <td>6</td>\n",
       "      <td>1002</td>\n",
       "      <td>Debit</td>\n",
       "      <td>214.34</td>\n",
       "      <td>Bob Marley</td>\n",
       "      <td>4</td>\n",
       "      <td>ON</td>\n",
       "      <td>1</td>\n",
       "      <td>personal_banking</td>\n",
       "    </tr>\n",
       "  </tbody>\n",
       "</table>\n",
       "</div>"
      ],
      "text/plain": [
       "   id  customer_id txn_type  txn_total       cust_name  num_products province  \\\n",
       "0   1         1001    Debit     165.78  Johnny Awesome             3       ON   \n",
       "1   2         1001   Credit      42.10  Johnny Awesome             3       ON   \n",
       "2   4         1001   Credit     103.03  Johnny Awesome             3       ON   \n",
       "3   5         1001   Credit      56.60  Johnny Awesome             3       ON   \n",
       "4   6         1002    Debit     214.34      Bob Marley             4       ON   \n",
       "\n",
       "   len_relationship     cust_category  \n",
       "0                 1            wealth  \n",
       "1                 1            wealth  \n",
       "2                 1            wealth  \n",
       "3                 1            wealth  \n",
       "4                 1  personal_banking  "
      ]
     },
     "execution_count": 49,
     "metadata": {},
     "output_type": "execute_result"
    }
   ],
   "source": [
    "merged_df.head()"
   ]
  },
  {
   "cell_type": "code",
   "execution_count": 50,
   "id": "de241d49",
   "metadata": {},
   "outputs": [
    {
     "data": {
      "text/plain": [
       "txn_type\n",
       "Cash      182.262727\n",
       "Credit    206.926667\n",
       "Debit     227.204286\n",
       "Name: txn_total, dtype: float64"
      ]
     },
     "execution_count": 50,
     "metadata": {},
     "output_type": "execute_result"
    }
   ],
   "source": [
    "merged_df.groupby('txn_type') ['txn_total'].mean()"
   ]
  },
  {
   "cell_type": "markdown",
   "id": "464d4b40",
   "metadata": {},
   "source": [
    "### Q9. Which transaction type is the most popular in each province?"
   ]
  },
  {
   "cell_type": "code",
   "execution_count": 55,
   "id": "4f13f6e0",
   "metadata": {},
   "outputs": [
    {
     "data": {
      "text/plain": [
       "province\n",
       "AB     Debit\n",
       "BC     Debit\n",
       "MB    Credit\n",
       "ON     Debit\n",
       "Name: txn_type, dtype: object"
      ]
     },
     "execution_count": 55,
     "metadata": {},
     "output_type": "execute_result"
    }
   ],
   "source": [
    "merged_df.groupby('province')['txn_type'].max()"
   ]
  },
  {
   "cell_type": "code",
   "execution_count": null,
   "id": "aa88ab2c",
   "metadata": {},
   "outputs": [],
   "source": []
  }
 ],
 "metadata": {
  "kernelspec": {
   "display_name": "Python 3 (ipykernel)",
   "language": "python",
   "name": "python3"
  },
  "language_info": {
   "codemirror_mode": {
    "name": "ipython",
    "version": 3
   },
   "file_extension": ".py",
   "mimetype": "text/x-python",
   "name": "python",
   "nbconvert_exporter": "python",
   "pygments_lexer": "ipython3",
   "version": "3.11.5"
  }
 },
 "nbformat": 4,
 "nbformat_minor": 5
}
